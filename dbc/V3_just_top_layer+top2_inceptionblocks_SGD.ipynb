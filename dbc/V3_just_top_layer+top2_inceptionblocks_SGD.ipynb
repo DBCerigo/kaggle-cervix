{
 "cells": [
  {
   "cell_type": "code",
   "execution_count": 1,
   "metadata": {
    "collapsed": true,
    "scrolled": true
   },
   "outputs": [],
   "source": [
    "from __future__ import print_function, division\n",
    "#virtualenv -p python3 venv"
   ]
  },
  {
   "cell_type": "code",
   "execution_count": 2,
   "metadata": {
    "collapsed": true
   },
   "outputs": [],
   "source": [
    "%matplotlib inline\n",
    "import matplotlib.pyplot as plt\n",
    "plt.style.use('ggplot')\n",
    "import cPickle as pk\n",
    "import pandas as pd\n",
    "import numpy as np\n",
    "from IPython.display import clear_output"
   ]
  },
  {
   "cell_type": "code",
   "execution_count": 3,
   "metadata": {},
   "outputs": [
    {
     "name": "stderr",
     "output_type": "stream",
     "text": [
      "Using TensorFlow backend.\n"
     ]
    }
   ],
   "source": [
    "import os\n",
    "import sys\n",
    "base_module_path = os.path.abspath(os.path.join('..'))\n",
    "if base_module_path not in sys.path:\n",
    "    sys.path.append(base_module_path)\n",
    "import cervix as c"
   ]
  },
  {
   "cell_type": "code",
   "execution_count": 4,
   "metadata": {
    "scrolled": true
   },
   "outputs": [
    {
     "name": "stdout",
     "output_type": "stream",
     "text": [
      "\u001b[34mType_1\u001b[m\u001b[m/ \u001b[34mType_2\u001b[m\u001b[m/ \u001b[34mType_3\u001b[m\u001b[m/\r\n"
     ]
    }
   ],
   "source": [
    "ls ../data/train/"
   ]
  },
  {
   "cell_type": "code",
   "execution_count": 5,
   "metadata": {
    "collapsed": true,
    "scrolled": true
   },
   "outputs": [],
   "source": [
    "df = c.data.make_base_df()\n",
    "df = c.processing.transform_save_imgs(df, c.processing.resize_n, n=299);"
   ]
  },
  {
   "cell_type": "code",
   "execution_count": 6,
   "metadata": {
    "collapsed": true
   },
   "outputs": [],
   "source": [
    "train, validate, test = c.data.split_df(df); "
   ]
  },
  {
   "cell_type": "code",
   "execution_count": 7,
   "metadata": {},
   "outputs": [
    {
     "name": "stdout",
     "output_type": "stream",
     "text": [
      "(888, 5)\n"
     ]
    },
    {
     "data": {
      "text/html": [
       "<div>\n",
       "<style>\n",
       "    .dataframe thead tr:only-child th {\n",
       "        text-align: right;\n",
       "    }\n",
       "\n",
       "    .dataframe thead th {\n",
       "        text-align: left;\n",
       "    }\n",
       "\n",
       "    .dataframe tbody tr th {\n",
       "        vertical-align: top;\n",
       "    }\n",
       "</style>\n",
       "<table border=\"1\" class=\"dataframe\">\n",
       "  <thead>\n",
       "    <tr style=\"text-align: right;\">\n",
       "      <th></th>\n",
       "      <th>path</th>\n",
       "      <th>Type</th>\n",
       "      <th>filetype</th>\n",
       "      <th>num_id</th>\n",
       "      <th>processed_path</th>\n",
       "    </tr>\n",
       "  </thead>\n",
       "  <tbody>\n",
       "    <tr>\n",
       "      <th>137</th>\n",
       "      <td>../data/train/Type_1/441.jpg</td>\n",
       "      <td>1</td>\n",
       "      <td>jpg</td>\n",
       "      <td>441</td>\n",
       "      <td>../data/processed/resize_299/train/441.jpg</td>\n",
       "    </tr>\n",
       "    <tr>\n",
       "      <th>130</th>\n",
       "      <td>../data/train/Type_1/396.jpg</td>\n",
       "      <td>1</td>\n",
       "      <td>jpg</td>\n",
       "      <td>396</td>\n",
       "      <td>../data/processed/resize_299/train/396.jpg</td>\n",
       "    </tr>\n",
       "    <tr>\n",
       "      <th>1032</th>\n",
       "      <td>../data/train/Type_3/1003.jpg</td>\n",
       "      <td>3</td>\n",
       "      <td>jpg</td>\n",
       "      <td>1003</td>\n",
       "      <td>../data/processed/resize_299/train/1003.jpg</td>\n",
       "    </tr>\n",
       "    <tr>\n",
       "      <th>177</th>\n",
       "      <td>../data/train/Type_1/623.jpg</td>\n",
       "      <td>1</td>\n",
       "      <td>jpg</td>\n",
       "      <td>623</td>\n",
       "      <td>../data/processed/resize_299/train/623.jpg</td>\n",
       "    </tr>\n",
       "    <tr>\n",
       "      <th>1303</th>\n",
       "      <td>../data/train/Type_3/480.jpg</td>\n",
       "      <td>3</td>\n",
       "      <td>jpg</td>\n",
       "      <td>480</td>\n",
       "      <td>../data/processed/resize_299/train/480.jpg</td>\n",
       "    </tr>\n",
       "  </tbody>\n",
       "</table>\n",
       "</div>"
      ],
      "text/plain": [
       "                               path Type filetype num_id  \\\n",
       "137    ../data/train/Type_1/441.jpg    1      jpg    441   \n",
       "130    ../data/train/Type_1/396.jpg    1      jpg    396   \n",
       "1032  ../data/train/Type_3/1003.jpg    3      jpg   1003   \n",
       "177    ../data/train/Type_1/623.jpg    1      jpg    623   \n",
       "1303   ../data/train/Type_3/480.jpg    3      jpg    480   \n",
       "\n",
       "                                   processed_path  \n",
       "137    ../data/processed/resize_299/train/441.jpg  \n",
       "130    ../data/processed/resize_299/train/396.jpg  \n",
       "1032  ../data/processed/resize_299/train/1003.jpg  \n",
       "177    ../data/processed/resize_299/train/623.jpg  \n",
       "1303   ../data/processed/resize_299/train/480.jpg  "
      ]
     },
     "execution_count": 7,
     "metadata": {},
     "output_type": "execute_result"
    }
   ],
   "source": [
    "print(train.shape)\n",
    "train.head()"
   ]
  },
  {
   "cell_type": "code",
   "execution_count": 8,
   "metadata": {},
   "outputs": [
    {
     "name": "stdout",
     "output_type": "stream",
     "text": [
      "(296, 5)\n"
     ]
    },
    {
     "data": {
      "text/html": [
       "<div>\n",
       "<style>\n",
       "    .dataframe thead tr:only-child th {\n",
       "        text-align: right;\n",
       "    }\n",
       "\n",
       "    .dataframe thead th {\n",
       "        text-align: left;\n",
       "    }\n",
       "\n",
       "    .dataframe tbody tr th {\n",
       "        vertical-align: top;\n",
       "    }\n",
       "</style>\n",
       "<table border=\"1\" class=\"dataframe\">\n",
       "  <thead>\n",
       "    <tr style=\"text-align: right;\">\n",
       "      <th></th>\n",
       "      <th>path</th>\n",
       "      <th>Type</th>\n",
       "      <th>filetype</th>\n",
       "      <th>num_id</th>\n",
       "      <th>processed_path</th>\n",
       "    </tr>\n",
       "  </thead>\n",
       "  <tbody>\n",
       "    <tr>\n",
       "      <th>1126</th>\n",
       "      <td>../data/train/Type_3/1300.jpg</td>\n",
       "      <td>3</td>\n",
       "      <td>jpg</td>\n",
       "      <td>1300</td>\n",
       "      <td>../data/processed/resize_299/train/1300.jpg</td>\n",
       "    </tr>\n",
       "    <tr>\n",
       "      <th>1446</th>\n",
       "      <td>../data/train/Type_3/897.jpg</td>\n",
       "      <td>3</td>\n",
       "      <td>jpg</td>\n",
       "      <td>897</td>\n",
       "      <td>../data/processed/resize_299/train/897.jpg</td>\n",
       "    </tr>\n",
       "    <tr>\n",
       "      <th>588</th>\n",
       "      <td>../data/train/Type_2/225.jpg</td>\n",
       "      <td>2</td>\n",
       "      <td>jpg</td>\n",
       "      <td>225</td>\n",
       "      <td>../data/processed/resize_299/train/225.jpg</td>\n",
       "    </tr>\n",
       "    <tr>\n",
       "      <th>907</th>\n",
       "      <td>../data/train/Type_2/785.jpg</td>\n",
       "      <td>2</td>\n",
       "      <td>jpg</td>\n",
       "      <td>785</td>\n",
       "      <td>../data/processed/resize_299/train/785.jpg</td>\n",
       "    </tr>\n",
       "    <tr>\n",
       "      <th>674</th>\n",
       "      <td>../data/train/Type_2/381.jpg</td>\n",
       "      <td>2</td>\n",
       "      <td>jpg</td>\n",
       "      <td>381</td>\n",
       "      <td>../data/processed/resize_299/train/381.jpg</td>\n",
       "    </tr>\n",
       "  </tbody>\n",
       "</table>\n",
       "</div>"
      ],
      "text/plain": [
       "                               path Type filetype num_id  \\\n",
       "1126  ../data/train/Type_3/1300.jpg    3      jpg   1300   \n",
       "1446   ../data/train/Type_3/897.jpg    3      jpg    897   \n",
       "588    ../data/train/Type_2/225.jpg    2      jpg    225   \n",
       "907    ../data/train/Type_2/785.jpg    2      jpg    785   \n",
       "674    ../data/train/Type_2/381.jpg    2      jpg    381   \n",
       "\n",
       "                                   processed_path  \n",
       "1126  ../data/processed/resize_299/train/1300.jpg  \n",
       "1446   ../data/processed/resize_299/train/897.jpg  \n",
       "588    ../data/processed/resize_299/train/225.jpg  \n",
       "907    ../data/processed/resize_299/train/785.jpg  \n",
       "674    ../data/processed/resize_299/train/381.jpg  "
      ]
     },
     "execution_count": 8,
     "metadata": {},
     "output_type": "execute_result"
    }
   ],
   "source": [
    "print(validate.shape)\n",
    "validate.head()"
   ]
  },
  {
   "cell_type": "code",
   "execution_count": 9,
   "metadata": {},
   "outputs": [
    {
     "name": "stdout",
     "output_type": "stream",
     "text": [
      "(297, 5)\n"
     ]
    },
    {
     "data": {
      "text/html": [
       "<div>\n",
       "<style>\n",
       "    .dataframe thead tr:only-child th {\n",
       "        text-align: right;\n",
       "    }\n",
       "\n",
       "    .dataframe thead th {\n",
       "        text-align: left;\n",
       "    }\n",
       "\n",
       "    .dataframe tbody tr th {\n",
       "        vertical-align: top;\n",
       "    }\n",
       "</style>\n",
       "<table border=\"1\" class=\"dataframe\">\n",
       "  <thead>\n",
       "    <tr style=\"text-align: right;\">\n",
       "      <th></th>\n",
       "      <th>path</th>\n",
       "      <th>Type</th>\n",
       "      <th>filetype</th>\n",
       "      <th>num_id</th>\n",
       "      <th>processed_path</th>\n",
       "    </tr>\n",
       "  </thead>\n",
       "  <tbody>\n",
       "    <tr>\n",
       "      <th>1067</th>\n",
       "      <td>../data/train/Type_3/1107.jpg</td>\n",
       "      <td>3</td>\n",
       "      <td>jpg</td>\n",
       "      <td>1107</td>\n",
       "      <td>../data/processed/resize_299/train/1107.jpg</td>\n",
       "    </tr>\n",
       "    <tr>\n",
       "      <th>1305</th>\n",
       "      <td>../data/train/Type_3/49.jpg</td>\n",
       "      <td>3</td>\n",
       "      <td>jpg</td>\n",
       "      <td>49</td>\n",
       "      <td>../data/processed/resize_299/train/49.jpg</td>\n",
       "    </tr>\n",
       "    <tr>\n",
       "      <th>328</th>\n",
       "      <td>../data/train/Type_2/1138.jpg</td>\n",
       "      <td>2</td>\n",
       "      <td>jpg</td>\n",
       "      <td>1138</td>\n",
       "      <td>../data/processed/resize_299/train/1138.jpg</td>\n",
       "    </tr>\n",
       "    <tr>\n",
       "      <th>704</th>\n",
       "      <td>../data/train/Type_2/428.jpg</td>\n",
       "      <td>2</td>\n",
       "      <td>jpg</td>\n",
       "      <td>428</td>\n",
       "      <td>../data/processed/resize_299/train/428.jpg</td>\n",
       "    </tr>\n",
       "    <tr>\n",
       "      <th>191</th>\n",
       "      <td>../data/train/Type_1/7.jpg</td>\n",
       "      <td>1</td>\n",
       "      <td>jpg</td>\n",
       "      <td>7</td>\n",
       "      <td>../data/processed/resize_299/train/7.jpg</td>\n",
       "    </tr>\n",
       "  </tbody>\n",
       "</table>\n",
       "</div>"
      ],
      "text/plain": [
       "                               path Type filetype num_id  \\\n",
       "1067  ../data/train/Type_3/1107.jpg    3      jpg   1107   \n",
       "1305    ../data/train/Type_3/49.jpg    3      jpg     49   \n",
       "328   ../data/train/Type_2/1138.jpg    2      jpg   1138   \n",
       "704    ../data/train/Type_2/428.jpg    2      jpg    428   \n",
       "191      ../data/train/Type_1/7.jpg    1      jpg      7   \n",
       "\n",
       "                                   processed_path  \n",
       "1067  ../data/processed/resize_299/train/1107.jpg  \n",
       "1305    ../data/processed/resize_299/train/49.jpg  \n",
       "328   ../data/processed/resize_299/train/1138.jpg  \n",
       "704    ../data/processed/resize_299/train/428.jpg  \n",
       "191      ../data/processed/resize_299/train/7.jpg  "
      ]
     },
     "execution_count": 9,
     "metadata": {},
     "output_type": "execute_result"
    }
   ],
   "source": [
    "print(test.shape)\n",
    "test.head()"
   ]
  },
  {
   "cell_type": "markdown",
   "metadata": {},
   "source": [
    "# Model creation"
   ]
  },
  {
   "cell_type": "code",
   "execution_count": 10,
   "metadata": {
    "collapsed": true
   },
   "outputs": [],
   "source": [
    "from keras.applications.inception_v3 import InceptionV3\n",
    "from keras.preprocessing import image\n",
    "from keras.models import Model\n",
    "from keras.layers import Dense, GlobalAveragePooling2D\n",
    "from keras import backend as K\n",
    "\n",
    "# create the base pre-trained model\n",
    "base_model = InceptionV3(weights='imagenet', include_top=False)\n",
    "\n",
    "# add a global spatial average pooling layer\n",
    "x = base_model.output\n",
    "x = GlobalAveragePooling2D()(x)\n",
    "# let's add a fully-connected layer\n",
    "x = Dense(1024, activation='relu')(x)\n",
    "# and a logistic layer -- let's say we have 200 classes\n",
    "    # we have three classes so usung 3 on dense predictions\n",
    "predictions = Dense(3, activation='softmax')(x)\n",
    "\n",
    "# this is the model we will train\n",
    "model = Model(inputs=base_model.input, outputs=predictions)\n",
    "\n",
    "# we chose to train the top 2 inception blocks, i.e. we will freeze\n",
    "# the first 172 layers and unfreeze the rest:\n",
    "for layer in model.layers[:172]:\n",
    "    layer.trainable = False\n",
    "for layer in model.layers[172:]:\n",
    "    layer.trainable = True"
   ]
  },
  {
   "cell_type": "code",
   "execution_count": 11,
   "metadata": {
    "collapsed": true
   },
   "outputs": [],
   "source": [
    "# compile the model (should be done *after* setting layers to non-trainable)\n",
    "# TODO: loss function should be log loss. 'categorical_crossentropy' / c.submission.keras_log_loss\n",
    "from keras.optimizers import SGD\n",
    "model.compile(optimizer=SGD(lr=0.0001, momentum=0.9), loss='categorical_crossentropy')\n",
    "#model.compile(optimizer='rmsprop', loss='categorical_crossentropy')"
   ]
  },
  {
   "cell_type": "code",
   "execution_count": 12,
   "metadata": {
    "scrolled": true
   },
   "outputs": [
    {
     "name": "stdout",
     "output_type": "stream",
     "text": [
      "0 input_1 False\n",
      "1 conv2d_1 False\n",
      "2 batch_normalization_1 False\n",
      "3 activation_1 False\n",
      "4 conv2d_2 False\n",
      "5 batch_normalization_2 False\n",
      "6 activation_2 False\n",
      "7 conv2d_3 False\n",
      "8 batch_normalization_3 False\n",
      "9 activation_3 False\n",
      "10 max_pooling2d_1 False\n",
      "11 conv2d_4 False\n",
      "12 batch_normalization_4 False\n",
      "13 activation_4 False\n",
      "14 conv2d_5 False\n",
      "15 batch_normalization_5 False\n",
      "16 activation_5 False\n",
      "17 max_pooling2d_2 False\n",
      "18 conv2d_9 False\n",
      "19 batch_normalization_9 False\n",
      "20 activation_9 False\n",
      "21 conv2d_7 False\n",
      "22 conv2d_10 False\n",
      "23 batch_normalization_7 False\n",
      "24 batch_normalization_10 False\n",
      "25 activation_7 False\n",
      "26 activation_10 False\n",
      "27 average_pooling2d_1 False\n",
      "28 conv2d_6 False\n",
      "29 conv2d_8 False\n",
      "30 conv2d_11 False\n",
      "31 conv2d_12 False\n",
      "32 batch_normalization_6 False\n",
      "33 batch_normalization_8 False\n",
      "34 batch_normalization_11 False\n",
      "35 batch_normalization_12 False\n",
      "36 activation_6 False\n",
      "37 activation_8 False\n",
      "38 activation_11 False\n",
      "39 activation_12 False\n",
      "40 mixed0 False\n",
      "41 conv2d_16 False\n",
      "42 batch_normalization_16 False\n",
      "43 activation_16 False\n",
      "44 conv2d_14 False\n",
      "45 conv2d_17 False\n",
      "46 batch_normalization_14 False\n",
      "47 batch_normalization_17 False\n",
      "48 activation_14 False\n",
      "49 activation_17 False\n",
      "50 average_pooling2d_2 False\n",
      "51 conv2d_13 False\n",
      "52 conv2d_15 False\n",
      "53 conv2d_18 False\n",
      "54 conv2d_19 False\n",
      "55 batch_normalization_13 False\n",
      "56 batch_normalization_15 False\n",
      "57 batch_normalization_18 False\n",
      "58 batch_normalization_19 False\n",
      "59 activation_13 False\n",
      "60 activation_15 False\n",
      "61 activation_18 False\n",
      "62 activation_19 False\n",
      "63 mixed1 False\n",
      "64 conv2d_23 False\n",
      "65 batch_normalization_23 False\n",
      "66 activation_23 False\n",
      "67 conv2d_21 False\n",
      "68 conv2d_24 False\n",
      "69 batch_normalization_21 False\n",
      "70 batch_normalization_24 False\n",
      "71 activation_21 False\n",
      "72 activation_24 False\n",
      "73 average_pooling2d_3 False\n",
      "74 conv2d_20 False\n",
      "75 conv2d_22 False\n",
      "76 conv2d_25 False\n",
      "77 conv2d_26 False\n",
      "78 batch_normalization_20 False\n",
      "79 batch_normalization_22 False\n",
      "80 batch_normalization_25 False\n",
      "81 batch_normalization_26 False\n",
      "82 activation_20 False\n",
      "83 activation_22 False\n",
      "84 activation_25 False\n",
      "85 activation_26 False\n",
      "86 mixed2 False\n",
      "87 conv2d_28 False\n",
      "88 batch_normalization_28 False\n",
      "89 activation_28 False\n",
      "90 conv2d_29 False\n",
      "91 batch_normalization_29 False\n",
      "92 activation_29 False\n",
      "93 conv2d_27 False\n",
      "94 conv2d_30 False\n",
      "95 batch_normalization_27 False\n",
      "96 batch_normalization_30 False\n",
      "97 activation_27 False\n",
      "98 activation_30 False\n",
      "99 max_pooling2d_3 False\n",
      "100 mixed3 False\n",
      "101 conv2d_35 False\n",
      "102 batch_normalization_35 False\n",
      "103 activation_35 False\n",
      "104 conv2d_36 False\n",
      "105 batch_normalization_36 False\n",
      "106 activation_36 False\n",
      "107 conv2d_32 False\n",
      "108 conv2d_37 False\n",
      "109 batch_normalization_32 False\n",
      "110 batch_normalization_37 False\n",
      "111 activation_32 False\n",
      "112 activation_37 False\n",
      "113 conv2d_33 False\n",
      "114 conv2d_38 False\n",
      "115 batch_normalization_33 False\n",
      "116 batch_normalization_38 False\n",
      "117 activation_33 False\n",
      "118 activation_38 False\n",
      "119 average_pooling2d_4 False\n",
      "120 conv2d_31 False\n",
      "121 conv2d_34 False\n",
      "122 conv2d_39 False\n",
      "123 conv2d_40 False\n",
      "124 batch_normalization_31 False\n",
      "125 batch_normalization_34 False\n",
      "126 batch_normalization_39 False\n",
      "127 batch_normalization_40 False\n",
      "128 activation_31 False\n",
      "129 activation_34 False\n",
      "130 activation_39 False\n",
      "131 activation_40 False\n",
      "132 mixed4 False\n",
      "133 conv2d_45 False\n",
      "134 batch_normalization_45 False\n",
      "135 activation_45 False\n",
      "136 conv2d_46 False\n",
      "137 batch_normalization_46 False\n",
      "138 activation_46 False\n",
      "139 conv2d_42 False\n",
      "140 conv2d_47 False\n",
      "141 batch_normalization_42 False\n",
      "142 batch_normalization_47 False\n",
      "143 activation_42 False\n",
      "144 activation_47 False\n",
      "145 conv2d_43 False\n",
      "146 conv2d_48 False\n",
      "147 batch_normalization_43 False\n",
      "148 batch_normalization_48 False\n",
      "149 activation_43 False\n",
      "150 activation_48 False\n",
      "151 average_pooling2d_5 False\n",
      "152 conv2d_41 False\n",
      "153 conv2d_44 False\n",
      "154 conv2d_49 False\n",
      "155 conv2d_50 False\n",
      "156 batch_normalization_41 False\n",
      "157 batch_normalization_44 False\n",
      "158 batch_normalization_49 False\n",
      "159 batch_normalization_50 False\n",
      "160 activation_41 False\n",
      "161 activation_44 False\n",
      "162 activation_49 False\n",
      "163 activation_50 False\n",
      "164 mixed5 False\n",
      "165 conv2d_55 False\n",
      "166 batch_normalization_55 False\n",
      "167 activation_55 False\n",
      "168 conv2d_56 False\n",
      "169 batch_normalization_56 False\n",
      "170 activation_56 False\n",
      "171 conv2d_52 False\n",
      "172 conv2d_57 True\n",
      "173 batch_normalization_52 True\n",
      "174 batch_normalization_57 True\n",
      "175 activation_52 True\n",
      "176 activation_57 True\n",
      "177 conv2d_53 True\n",
      "178 conv2d_58 True\n",
      "179 batch_normalization_53 True\n",
      "180 batch_normalization_58 True\n",
      "181 activation_53 True\n",
      "182 activation_58 True\n",
      "183 average_pooling2d_6 True\n",
      "184 conv2d_51 True\n",
      "185 conv2d_54 True\n",
      "186 conv2d_59 True\n",
      "187 conv2d_60 True\n",
      "188 batch_normalization_51 True\n",
      "189 batch_normalization_54 True\n",
      "190 batch_normalization_59 True\n",
      "191 batch_normalization_60 True\n",
      "192 activation_51 True\n",
      "193 activation_54 True\n",
      "194 activation_59 True\n",
      "195 activation_60 True\n",
      "196 mixed6 True\n",
      "197 conv2d_65 True\n",
      "198 batch_normalization_65 True\n",
      "199 activation_65 True\n",
      "200 conv2d_66 True\n",
      "201 batch_normalization_66 True\n",
      "202 activation_66 True\n",
      "203 conv2d_62 True\n",
      "204 conv2d_67 True\n",
      "205 batch_normalization_62 True\n",
      "206 batch_normalization_67 True\n",
      "207 activation_62 True\n",
      "208 activation_67 True\n",
      "209 conv2d_63 True\n",
      "210 conv2d_68 True\n",
      "211 batch_normalization_63 True\n",
      "212 batch_normalization_68 True\n",
      "213 activation_63 True\n",
      "214 activation_68 True\n",
      "215 average_pooling2d_7 True\n",
      "216 conv2d_61 True\n",
      "217 conv2d_64 True\n",
      "218 conv2d_69 True\n",
      "219 conv2d_70 True\n",
      "220 batch_normalization_61 True\n",
      "221 batch_normalization_64 True\n",
      "222 batch_normalization_69 True\n",
      "223 batch_normalization_70 True\n",
      "224 activation_61 True\n",
      "225 activation_64 True\n",
      "226 activation_69 True\n",
      "227 activation_70 True\n",
      "228 mixed7 True\n",
      "229 conv2d_73 True\n",
      "230 batch_normalization_73 True\n",
      "231 activation_73 True\n",
      "232 conv2d_74 True\n",
      "233 batch_normalization_74 True\n",
      "234 activation_74 True\n",
      "235 conv2d_71 True\n",
      "236 conv2d_75 True\n",
      "237 batch_normalization_71 True\n",
      "238 batch_normalization_75 True\n",
      "239 activation_71 True\n",
      "240 activation_75 True\n",
      "241 conv2d_72 True\n",
      "242 conv2d_76 True\n",
      "243 batch_normalization_72 True\n",
      "244 batch_normalization_76 True\n",
      "245 activation_72 True\n",
      "246 activation_76 True\n",
      "247 max_pooling2d_4 True\n",
      "248 mixed8 True\n",
      "249 conv2d_81 True\n",
      "250 batch_normalization_81 True\n",
      "251 activation_81 True\n",
      "252 conv2d_78 True\n",
      "253 conv2d_82 True\n",
      "254 batch_normalization_78 True\n",
      "255 batch_normalization_82 True\n",
      "256 activation_78 True\n",
      "257 activation_82 True\n",
      "258 conv2d_79 True\n",
      "259 conv2d_80 True\n",
      "260 conv2d_83 True\n",
      "261 conv2d_84 True\n",
      "262 average_pooling2d_8 True\n",
      "263 conv2d_77 True\n",
      "264 batch_normalization_79 True\n",
      "265 batch_normalization_80 True\n",
      "266 batch_normalization_83 True\n",
      "267 batch_normalization_84 True\n",
      "268 conv2d_85 True\n",
      "269 batch_normalization_77 True\n",
      "270 activation_79 True\n",
      "271 activation_80 True\n",
      "272 activation_83 True\n",
      "273 activation_84 True\n",
      "274 batch_normalization_85 True\n",
      "275 activation_77 True\n",
      "276 mixed9_0 True\n",
      "277 concatenate_1 True\n",
      "278 activation_85 True\n",
      "279 mixed9 True\n",
      "280 conv2d_90 True\n",
      "281 batch_normalization_90 True\n",
      "282 activation_90 True\n",
      "283 conv2d_87 True\n",
      "284 conv2d_91 True\n",
      "285 batch_normalization_87 True\n",
      "286 batch_normalization_91 True\n",
      "287 activation_87 True\n",
      "288 activation_91 True\n",
      "289 conv2d_88 True\n",
      "290 conv2d_89 True\n",
      "291 conv2d_92 True\n",
      "292 conv2d_93 True\n",
      "293 average_pooling2d_9 True\n",
      "294 conv2d_86 True\n",
      "295 batch_normalization_88 True\n",
      "296 batch_normalization_89 True\n",
      "297 batch_normalization_92 True\n",
      "298 batch_normalization_93 True\n",
      "299 conv2d_94 True\n",
      "300 batch_normalization_86 True\n",
      "301 activation_88 True\n",
      "302 activation_89 True\n",
      "303 activation_92 True\n",
      "304 activation_93 True\n",
      "305 batch_normalization_94 True\n",
      "306 activation_86 True\n",
      "307 mixed9_1 True\n",
      "308 concatenate_2 True\n",
      "309 activation_94 True\n",
      "310 mixed10 True\n"
     ]
    }
   ],
   "source": [
    "# let's visualize layer names and layer indices to see how many layers\n",
    "# we should freeze:\n",
    "for i, layer in enumerate(base_model.layers):\n",
    "    print(i, layer.name, layer.trainable)"
   ]
  },
  {
   "cell_type": "code",
   "execution_count": null,
   "metadata": {
    "scrolled": true
   },
   "outputs": [
    {
     "name": "stdout",
     "output_type": "stream",
     "text": [
      "Epoch 1/9\n",
      "1/5 [=====>........................] - ETA: 69s - loss: 1.2299"
     ]
    }
   ],
   "source": [
    "# train the model on the new data for a few epochs\n",
    "batch_size = 20\n",
    "model.fit_generator(c.processing.df_to_keras_generator(train, batch_size, grayscale=False), \n",
    "                    steps_per_epoch=5,\n",
    "                    epochs=9)\n"
   ]
  },
  {
   "cell_type": "code",
   "execution_count": null,
   "metadata": {
    "collapsed": true
   },
   "outputs": [],
   "source": [
    "batch_size_t = 10\n",
    "model.evaluate_generator(c.processing.df_to_keras_generator(test, batch_size_t, grayscale=False)\n",
    "                    ,int(len(test)/batch_size_t))"
   ]
  },
  {
   "cell_type": "code",
   "execution_count": null,
   "metadata": {
    "collapsed": true
   },
   "outputs": [],
   "source": [
    "batch_size_t = 10\n",
    "predictions = model.predict_generator(c.processing.df_to_keras_generator(test, batch_size_t, grayscale=False)\n",
    "                    ,int(len(test)/batch_size_t))\n",
    "predictions"
   ]
  },
  {
   "cell_type": "code",
   "execution_count": null,
   "metadata": {
    "collapsed": true
   },
   "outputs": [],
   "source": [
    "predictions.sum(0)"
   ]
  },
  {
   "cell_type": "code",
   "execution_count": null,
   "metadata": {
    "collapsed": true
   },
   "outputs": [],
   "source": [
    "test.Type.value_counts()"
   ]
  },
  {
   "cell_type": "code",
   "execution_count": null,
   "metadata": {
    "collapsed": true
   },
   "outputs": [],
   "source": [
    "print(len(predictions), len(test))"
   ]
  },
  {
   "cell_type": "code",
   "execution_count": null,
   "metadata": {
    "collapsed": true
   },
   "outputs": [],
   "source": [
    "ldf.sort_values('log_l', ascending=False).path.iloc[0]"
   ]
  },
  {
   "cell_type": "code",
   "execution_count": null,
   "metadata": {
    "collapsed": true,
    "scrolled": false
   },
   "outputs": [],
   "source": [
    "c.data.check_image(ldf.sort_values('log_l', ascending=False).path.iloc[0])"
   ]
  },
  {
   "cell_type": "code",
   "execution_count": null,
   "metadata": {
    "collapsed": true
   },
   "outputs": [],
   "source": [
    "c.data.check_image(ldf.sort_values('log_l', ascending=False).resize_100_path.iloc[0])"
   ]
  },
  {
   "cell_type": "code",
   "execution_count": null,
   "metadata": {
    "collapsed": true,
    "scrolled": true
   },
   "outputs": [],
   "source": [
    "c.data.check_image(ldf.sort_values('log_l', ascending=False).path.iloc[1])"
   ]
  },
  {
   "cell_type": "code",
   "execution_count": null,
   "metadata": {
    "collapsed": true,
    "scrolled": true
   },
   "outputs": [],
   "source": [
    "c.data.check_image(ldf.sort_values('log_l', ascending=False).resize_100_path.iloc[1])"
   ]
  },
  {
   "cell_type": "code",
   "execution_count": null,
   "metadata": {
    "collapsed": true
   },
   "outputs": [],
   "source": [
    "c.data.check_image(ldf.sort_values('log_l', ascending=False).path.iloc[3])"
   ]
  },
  {
   "cell_type": "code",
   "execution_count": null,
   "metadata": {
    "collapsed": true
   },
   "outputs": [],
   "source": [
    "c.data.check_image(ldf.sort_values('log_l', ascending=False).resize_100_path.iloc[3])"
   ]
  },
  {
   "cell_type": "code",
   "execution_count": null,
   "metadata": {
    "collapsed": true
   },
   "outputs": [],
   "source": []
  }
 ],
 "metadata": {
  "kernelspec": {
   "display_name": "Python 2",
   "language": "python",
   "name": "python2"
  },
  "language_info": {
   "codemirror_mode": {
    "name": "ipython",
    "version": 2
   },
   "file_extension": ".py",
   "mimetype": "text/x-python",
   "name": "python",
   "nbconvert_exporter": "python",
   "pygments_lexer": "ipython2",
   "version": "2.7.10"
  }
 },
 "nbformat": 4,
 "nbformat_minor": 2
}
