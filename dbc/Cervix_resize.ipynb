{
 "cells": [
  {
   "cell_type": "code",
   "execution_count": 69,
   "metadata": {
    "collapsed": true
   },
   "outputs": [],
   "source": [
    "from __future__ import print_function, division\n",
    "#virtualenv -p python3 venv"
   ]
  },
  {
   "cell_type": "code",
   "execution_count": 70,
   "metadata": {
    "collapsed": true
   },
   "outputs": [],
   "source": [
    "%matplotlib inline\n",
    "import matplotlib.pyplot as plt\n",
    "plt.style.use('ggplot')\n",
    "import cPickle as pk\n",
    "import pandas as pd\n",
    "import numpy as np\n",
    "from IPython.display import clear_output"
   ]
  },
  {
   "cell_type": "code",
   "execution_count": 71,
   "metadata": {
    "collapsed": true
   },
   "outputs": [],
   "source": [
    "import os\n",
    "import sys\n",
    "base_module_path = os.path.abspath(os.path.join('..'))\n",
    "if base_module_path not in sys.path:\n",
    "    sys.path.append(base_module_path)\n",
    "import cervix as c"
   ]
  },
  {
   "cell_type": "code",
   "execution_count": 72,
   "metadata": {
    "scrolled": true
   },
   "outputs": [
    {
     "name": "stdout",
     "output_type": "stream",
     "text": [
      "\u001b[34mType_1\u001b[m\u001b[m/ \u001b[34mType_2\u001b[m\u001b[m/ \u001b[34mType_3\u001b[m\u001b[m/\r\n"
     ]
    }
   ],
   "source": [
    "ls ../data/train/"
   ]
  },
  {
   "cell_type": "code",
   "execution_count": 73,
   "metadata": {},
   "outputs": [
    {
     "data": {
      "text/html": [
       "<div>\n",
       "<style>\n",
       "    .dataframe thead tr:only-child th {\n",
       "        text-align: right;\n",
       "    }\n",
       "\n",
       "    .dataframe thead th {\n",
       "        text-align: left;\n",
       "    }\n",
       "\n",
       "    .dataframe tbody tr th {\n",
       "        vertical-align: top;\n",
       "    }\n",
       "</style>\n",
       "<table border=\"1\" class=\"dataframe\">\n",
       "  <thead>\n",
       "    <tr style=\"text-align: right;\">\n",
       "      <th></th>\n",
       "      <th>path</th>\n",
       "      <th>num_id</th>\n",
       "    </tr>\n",
       "  </thead>\n",
       "  <tbody>\n",
       "    <tr>\n",
       "      <th>0</th>\n",
       "      <td>../data/test/0.jpg</td>\n",
       "      <td>0</td>\n",
       "    </tr>\n",
       "    <tr>\n",
       "      <th>1</th>\n",
       "      <td>../data/test/1.jpg</td>\n",
       "      <td>1</td>\n",
       "    </tr>\n",
       "    <tr>\n",
       "      <th>2</th>\n",
       "      <td>../data/test/10.jpg</td>\n",
       "      <td>10</td>\n",
       "    </tr>\n",
       "    <tr>\n",
       "      <th>3</th>\n",
       "      <td>../data/test/100.jpg</td>\n",
       "      <td>100</td>\n",
       "    </tr>\n",
       "    <tr>\n",
       "      <th>4</th>\n",
       "      <td>../data/test/101.jpg</td>\n",
       "      <td>101</td>\n",
       "    </tr>\n",
       "  </tbody>\n",
       "</table>\n",
       "</div>"
      ],
      "text/plain": [
       "                   path num_id\n",
       "0    ../data/test/0.jpg      0\n",
       "1    ../data/test/1.jpg      1\n",
       "2   ../data/test/10.jpg     10\n",
       "3  ../data/test/100.jpg    100\n",
       "4  ../data/test/101.jpg    101"
      ]
     },
     "execution_count": 73,
     "metadata": {},
     "output_type": "execute_result"
    }
   ],
   "source": [
    "df = c.data.make_base_df()\n",
    "tdf = c.data.make_test_df(); tdf.head()"
   ]
  },
  {
   "cell_type": "code",
   "execution_count": 74,
   "metadata": {
    "scrolled": true
   },
   "outputs": [
    {
     "data": {
      "text/html": [
       "<div>\n",
       "<style>\n",
       "    .dataframe thead tr:only-child th {\n",
       "        text-align: right;\n",
       "    }\n",
       "\n",
       "    .dataframe thead th {\n",
       "        text-align: left;\n",
       "    }\n",
       "\n",
       "    .dataframe tbody tr th {\n",
       "        vertical-align: top;\n",
       "    }\n",
       "</style>\n",
       "<table border=\"1\" class=\"dataframe\">\n",
       "  <thead>\n",
       "    <tr style=\"text-align: right;\">\n",
       "      <th></th>\n",
       "      <th>path</th>\n",
       "      <th>type</th>\n",
       "      <th>filetype</th>\n",
       "      <th>num_id</th>\n",
       "      <th>resize_100_path</th>\n",
       "    </tr>\n",
       "  </thead>\n",
       "  <tbody>\n",
       "    <tr>\n",
       "      <th>0</th>\n",
       "      <td>../data/train/Type_1/0.jpg</td>\n",
       "      <td>Type_1</td>\n",
       "      <td>jpg</td>\n",
       "      <td>0</td>\n",
       "      <td>../data/processed/resize_100/train/0.jpg</td>\n",
       "    </tr>\n",
       "    <tr>\n",
       "      <th>1</th>\n",
       "      <td>../data/train/Type_1/10.jpg</td>\n",
       "      <td>Type_1</td>\n",
       "      <td>jpg</td>\n",
       "      <td>10</td>\n",
       "      <td>../data/processed/resize_100/train/10.jpg</td>\n",
       "    </tr>\n",
       "    <tr>\n",
       "      <th>2</th>\n",
       "      <td>../data/train/Type_1/1013.jpg</td>\n",
       "      <td>Type_1</td>\n",
       "      <td>jpg</td>\n",
       "      <td>1013</td>\n",
       "      <td>../data/processed/resize_100/train/1013.jpg</td>\n",
       "    </tr>\n",
       "    <tr>\n",
       "      <th>3</th>\n",
       "      <td>../data/train/Type_1/1014.jpg</td>\n",
       "      <td>Type_1</td>\n",
       "      <td>jpg</td>\n",
       "      <td>1014</td>\n",
       "      <td>../data/processed/resize_100/train/1014.jpg</td>\n",
       "    </tr>\n",
       "    <tr>\n",
       "      <th>4</th>\n",
       "      <td>../data/train/Type_1/1019.jpg</td>\n",
       "      <td>Type_1</td>\n",
       "      <td>jpg</td>\n",
       "      <td>1019</td>\n",
       "      <td>../data/processed/resize_100/train/1019.jpg</td>\n",
       "    </tr>\n",
       "  </tbody>\n",
       "</table>\n",
       "</div>"
      ],
      "text/plain": [
       "                            path    type filetype num_id  \\\n",
       "0     ../data/train/Type_1/0.jpg  Type_1      jpg      0   \n",
       "1    ../data/train/Type_1/10.jpg  Type_1      jpg     10   \n",
       "2  ../data/train/Type_1/1013.jpg  Type_1      jpg   1013   \n",
       "3  ../data/train/Type_1/1014.jpg  Type_1      jpg   1014   \n",
       "4  ../data/train/Type_1/1019.jpg  Type_1      jpg   1019   \n",
       "\n",
       "                               resize_100_path  \n",
       "0     ../data/processed/resize_100/train/0.jpg  \n",
       "1    ../data/processed/resize_100/train/10.jpg  \n",
       "2  ../data/processed/resize_100/train/1013.jpg  \n",
       "3  ../data/processed/resize_100/train/1014.jpg  \n",
       "4  ../data/processed/resize_100/train/1019.jpg  "
      ]
     },
     "execution_count": 74,
     "metadata": {},
     "output_type": "execute_result"
    }
   ],
   "source": [
    "df = c.processing.transform_save_imgs(df, c.processing.resize_100); df.head()"
   ]
  },
  {
   "cell_type": "code",
   "execution_count": 75,
   "metadata": {},
   "outputs": [
    {
     "data": {
      "text/html": [
       "<div>\n",
       "<style>\n",
       "    .dataframe thead tr:only-child th {\n",
       "        text-align: right;\n",
       "    }\n",
       "\n",
       "    .dataframe thead th {\n",
       "        text-align: left;\n",
       "    }\n",
       "\n",
       "    .dataframe tbody tr th {\n",
       "        vertical-align: top;\n",
       "    }\n",
       "</style>\n",
       "<table border=\"1\" class=\"dataframe\">\n",
       "  <thead>\n",
       "    <tr style=\"text-align: right;\">\n",
       "      <th></th>\n",
       "      <th>path</th>\n",
       "      <th>num_id</th>\n",
       "      <th>resize_100_path</th>\n",
       "    </tr>\n",
       "  </thead>\n",
       "  <tbody>\n",
       "    <tr>\n",
       "      <th>0</th>\n",
       "      <td>../data/test/0.jpg</td>\n",
       "      <td>0</td>\n",
       "      <td>../data/processed/resize_100/test/0.jpg</td>\n",
       "    </tr>\n",
       "    <tr>\n",
       "      <th>1</th>\n",
       "      <td>../data/test/1.jpg</td>\n",
       "      <td>1</td>\n",
       "      <td>../data/processed/resize_100/test/1.jpg</td>\n",
       "    </tr>\n",
       "    <tr>\n",
       "      <th>2</th>\n",
       "      <td>../data/test/10.jpg</td>\n",
       "      <td>10</td>\n",
       "      <td>../data/processed/resize_100/test/10.jpg</td>\n",
       "    </tr>\n",
       "    <tr>\n",
       "      <th>3</th>\n",
       "      <td>../data/test/100.jpg</td>\n",
       "      <td>100</td>\n",
       "      <td>../data/processed/resize_100/test/100.jpg</td>\n",
       "    </tr>\n",
       "    <tr>\n",
       "      <th>4</th>\n",
       "      <td>../data/test/101.jpg</td>\n",
       "      <td>101</td>\n",
       "      <td>../data/processed/resize_100/test/101.jpg</td>\n",
       "    </tr>\n",
       "  </tbody>\n",
       "</table>\n",
       "</div>"
      ],
      "text/plain": [
       "                   path num_id                            resize_100_path\n",
       "0    ../data/test/0.jpg      0    ../data/processed/resize_100/test/0.jpg\n",
       "1    ../data/test/1.jpg      1    ../data/processed/resize_100/test/1.jpg\n",
       "2   ../data/test/10.jpg     10   ../data/processed/resize_100/test/10.jpg\n",
       "3  ../data/test/100.jpg    100  ../data/processed/resize_100/test/100.jpg\n",
       "4  ../data/test/101.jpg    101  ../data/processed/resize_100/test/101.jpg"
      ]
     },
     "execution_count": 75,
     "metadata": {},
     "output_type": "execute_result"
    }
   ],
   "source": [
    "tdf = c.processing.transform_save_imgs(tdf, c.processing.resize_100); tdf.head()"
   ]
  },
  {
   "cell_type": "code",
   "execution_count": 78,
   "metadata": {},
   "outputs": [
    {
     "name": "stdout",
     "output_type": "stream",
     "text": [
      "(1481, 30000)\n",
      "(1481,)\n"
     ]
    }
   ],
   "source": [
    "X, y = c.processing.random_forest_transform(df, 'resize_100_path', grayscale=False)\n",
    "print(X.shape)\n",
    "print(y.shape)"
   ]
  },
  {
   "cell_type": "code",
   "execution_count": 65,
   "metadata": {
    "collapsed": true
   },
   "outputs": [],
   "source": [
    "import scipy\n",
    "from sklearn.model_selection import train_test_split\n",
    "X_train, X_test, y_train, y_test = train_test_split(\n",
    "    X, y, test_size=0.33, random_state=42)"
   ]
  },
  {
   "cell_type": "code",
   "execution_count": 66,
   "metadata": {},
   "outputs": [
    {
     "name": "stdout",
     "output_type": "stream",
     "text": [
      "(992, 10000)\n",
      "(992,)\n",
      "(489, 10000)\n",
      "(489,)\n"
     ]
    }
   ],
   "source": [
    "print(X_train.shape)\n",
    "print(y_train.shape)\n",
    "print(X_test.shape)\n",
    "print(y_test.shape)"
   ]
  },
  {
   "cell_type": "code",
   "execution_count": 67,
   "metadata": {},
   "outputs": [
    {
     "data": {
      "text/plain": [
       "RandomForestClassifier(bootstrap=True, class_weight=None, criterion='gini',\n",
       "            max_depth=None, max_features='auto', max_leaf_nodes=None,\n",
       "            min_impurity_split=1e-07, min_samples_leaf=1,\n",
       "            min_samples_split=2, min_weight_fraction_leaf=0.0,\n",
       "            n_estimators=50, n_jobs=2, oob_score=False, random_state=None,\n",
       "            verbose=0, warm_start=False)"
      ]
     },
     "execution_count": 67,
     "metadata": {},
     "output_type": "execute_result"
    }
   ],
   "source": [
    "from sklearn.ensemble import RandomForestClassifier as RFC\n",
    "rfc = RFC(n_jobs=2,n_estimators=50)\n",
    "rfc.fit(X_train, y_train)"
   ]
  },
  {
   "cell_type": "code",
   "execution_count": 21,
   "metadata": {},
   "outputs": [
    {
     "data": {
      "text/plain": [
       "0.48466257668711654"
      ]
     },
     "execution_count": 21,
     "metadata": {},
     "output_type": "execute_result"
    }
   ],
   "source": [
    "rfc.score(X_test, y_test)  "
   ]
  },
  {
   "cell_type": "code",
   "execution_count": 28,
   "metadata": {},
   "outputs": [
    {
     "name": "stdout",
     "output_type": "stream",
     "text": [
      "1131.1134.1136.1139.1154.1161.1168.1174.1179.1190.1194.1199.12.1202.1204.1220.1223.1226.1229.1230.1239.1245.1251.1273.1274.1279.1281.1285.1288.1289.129.13.1308.1314.1320.1324.1326.1336.1339.1344.1346.1370.138.1384.1389.139.1390.1393.14.1414.142.1422.1427.1430.1437.144.1440.1456.1464.1468.1473.148.160.171.176.180.181.191.201.205.208.215.218.229.230.237.239.245.248.252.254.262.265.267.27.281.294.298.306.308.311.333.334.338.34.342.346.349.35.356.376.379.383.384.387.396.401.41.416.421.425.434.441.446.454.463.469.47.470.471.478.48.481.484.497.513.516.518.523.531.532.536.539.55.550.551.553.558.560.562.57.576.578.579.580.582.583.593.596.605.619.620.623.624.641.643.645.649.653.660.663.667.668.677.683.685.7.700.708.709.710.713.725.727.732.739.745.751.759.763.764.765.769.779.783.787.791.802.805.809.81.810.814.817.821.833.836.842.846.855.873.879.880.887.889.890.891.895.901.906.908.917.918.920.921.928.930.96.965.972.977.982.984.991.998.1.100.1001.1002.1005.1006.101.1010.1011.1012.1016.1017.1018.1021.1022.1025.103.1032.1035.1036.1038.1039.1042.1043.1044.1046.1047.1049.105.1050.1051.1054.1055.1057.1058.1065.1066.1067.1068.107.1072.1073.1074.1075.1076.1078.1083.1084.1085.1087.1089.1090.1091.1096.1097.1098.1099.110.1102.1103.1104.1106.1109.1114.1115.1116.1117.1118.1119.112.1121.1122.1124.1125.1126.1130.1132.1135.1138.1140.1141.1142.1143.1144.1145.1146.1147.1148.1149.115.1151.1152.1155.1156.1158.1159.116.1160.1169.117.1170.1171.1172.1173.1175.1176.1178.1180.1181.1184.1185.1186.1187.1188.1189.119.1192.1193.1195.1196.1197.1198.120.1201.1203.1205.1209.121.1210.1211.1212.1213.1214.1215.1216.1217.1218.1219.122.1222.1225.1227.1228.123.1231.1233.1234.1236.1238.1240.1241.1242.1243.1246.1247.1249.1250.1253.1255.1257.1258.126.1260.1261.1262.1263.1264.1266.1267.1269.127.1271.1272.1276.128.1282.1283.1290.1292.1293.1294.1295.1297.1298.1299.1301.1302.1303.1304.1305.131.1310.1311.1312.1313.1315.1316.1317.1318.1319.1321.1322.1325.1327.1328.1329.133.1330.1331.1334.1337.1338.134.1340.1342.1343.1345.1348.1349.1352.1353.1354.1356.1357.1358.1359.136.1361.1362.1363.1365.1368.1369.137.1371.1373.1376.1377.1378.1379.1380.1381.1383.1385.1386.1388.1391.1392.1395.1398.1399.140.1405.1406.1407.1411.1413.1415.1416.1418.1419.1421.1424.1426.1428.1432.1433.1435.1436.1438.1439.1441.1443.1444.1445.1446.1449.1450.1451.1452.1453.1454.1457.1462.1463.1465.1466.1467.147.1471.1472.1474.1476.1478.1480.149.15.151.152.153.156.157.159.161.162.164.165.167.168.17.173.175.177.178.182.183.184.185.186.189.19.190.192.195.198.2.203.204.206.209.21.210.213.216.219.22.223.224.225.227.231.233.234.235.236.238.24.240.241.243.244.246.250.251.255.257.26.264.266.268.270.271.274.276.278.279.28.282.283.284.285.288.29.290.291.293.296.297.301.302.303.305.31.310.312.313.314.315.316.317.319.32.326.329.330.331.332.337.339.340.341.343.345.348.351.353.354.358.359.36.360.364.365.366.367.368.369.37.371.372.374.375.377.378.381.382.385.386.388.389.39.393.394.395.397.398.4.40.400.403.404.406.407.408.410.411.412.413.414.418.419.42.420.423.428.429.43.432.437.438.44.440.442.443.444.445.447.448.449.45.451.452.453.455.456.457.458.46.460.461.462.464.472.473.474.476.482.483.485.486.487.488.490.493.496.499.501.502.503.504.505.506.507.508.509.51.515.517.52.521.522.524.525.526.528.529.53.533.534.535.537.538.54.540.541.542.544.545.546.547.548.549.552.556.557.559.56.561.563.564.566.568.569.570.572.574.577.581.584.586.588.589.591.592.595.597.6.60.601.602.603.607.608.609.610.611.612.613.614.615.616.618.621.622.632.633.634.639.64.640.642.644.647.648.65.651.652.655.656.657.658.659.66.662.665.666.67.671.673.674.676.678.68.680.681.684.686.687.688.691.693.696.698.699.701.702.703.704.705.707.712.714.716.717.718.719.72.720.722.723.724.726.729.730.738.74.741.743.744.748.749.75.753.754.756.76.760.761.762.768.77.771.772.775.777.78.781.785.786.789.79.790.792.793.794.795.797.798.8.80.804.807.813.815.816.819.824.826.827.829.830.831.832.834.838.84.841.843.844.847.849.85.850.851.852.854.856.857.858.859.86.860.861.862.863.865.867.868.871.874.88.882.883.884.886.888.89.894.896.9.90.903.904.905.91.911.912.913.915.919.92.922.925.926.929.93.932.933.934.935.936.937.938.939.94.940.942.946.948.95.955.956.957.958.959.960.961.963.964.966.967.969.97.970.971.973.974.976.978.979.981.985.987.988.989.99.990.992.994.997.999.1000.1003.1004.1007.1008.1009.1015.1020.1028.1029.1030.1031.1034.1037.1041.1045.1048.1052.1053.106.1060.1062.1063.1064.1069.108.1080.1081.1082.1086.1088.1092.1094.1095.11.1101.1107.1108.111.1110.1111.1112.1113.1120.1127.1128.1129.113.1133.1137.114.1150.1153.1157.1162.1163.1164.1165.1166.1167.1177.118.1182.1183.1191.1200.1206.1207.1208.1221.1224.1232.1235.1237.124.1244.1248.125.1252.1254.1256.1259.1265.1268.1270.1275.1277.1278.1280.1284.1286.1287.1291.1296.130.1300.1306.1307.1309.132.1323.1332.1333.1335.1341.1347.135.1350.1351.1355.1360.1364.1366.1367.1372.1374.1375.1382.1387.1394.1396.1397.1400.1401.1402.1403.1404.1408.1409.141.1410.1412.1417.1420.1423.1425.1429.143.1431.1434.1442.1447.1448.145.1455.1458.1459.146.1460.1461.1469.1470.1475.1477.1479.150.154.155.158.16.163.166.169.170.172.174.179.18.187.188.193.194.196.197.199.20.200.202.207.211.212.214.217.220.221.222.226.228.23.232.242.247.249.25.253.256.258.259.260.261.263.269.272.273.275.277.280.286.287.289.292.295.299.3.30.300.304.307.309.318.320.321.322.323.324.325.327.328.33.335.336.344.347.350.352.355.357.361.362.363.370.373.38.380.390.391.392.399.402.405.409.415.417.422.424.426.427.430.431.433.435.436.439.450.459.465.466.467.468.475.477.479.480.489.49.491.492.494.495.498.5.50.500.510.511.512.514.519.520.527.530.543.554.555.565.567.571.573.575.58.585.587.59.590.594.598.599.600.604.606.61.617.62.625.626.627.628.629.63.630.631.635.636.637.638.646.650.654.661.664.669.670.672.675.679.682.689.69.690.692.694.695.697.70.706.71.711.715.721.728.73.731.733.734.735.736.737.740.742.746.747.750.752.755.757.758.766.767.770.773.774.776.778.780.782.784.788.796.799.800.801.803.806.808.811.812.818.82.820.822.823.825.828.83.835.837.839.840.845.848.853.864.866.869.87.870.872.875.876.877.878.881.885.892.893.897.898.899.900.902.907.909.910.914.916.923.924.927.931.941.943.944.945.947.949.950.951.952.953.954.962.968.975.98.980.983.986.993.995.996."
     ]
    },
    {
     "data": {
      "text/html": [
       "<div>\n",
       "<style>\n",
       "    .dataframe thead tr:only-child th {\n",
       "        text-align: right;\n",
       "    }\n",
       "\n",
       "    .dataframe thead th {\n",
       "        text-align: left;\n",
       "    }\n",
       "\n",
       "    .dataframe tbody tr th {\n",
       "        vertical-align: top;\n",
       "    }\n",
       "</style>\n",
       "<table border=\"1\" class=\"dataframe\">\n",
       "  <thead>\n",
       "    <tr style=\"text-align: right;\">\n",
       "      <th></th>\n",
       "      <th>path</th>\n",
       "      <th>type</th>\n",
       "      <th>filetype</th>\n",
       "      <th>num_id</th>\n",
       "      <th>grayscale_resize_path</th>\n",
       "      <th>resize_100_path</th>\n",
       "    </tr>\n",
       "  </thead>\n",
       "  <tbody>\n",
       "    <tr>\n",
       "      <th>0</th>\n",
       "      <td>../data/train/Type_1/0.jpg</td>\n",
       "      <td>Type_1</td>\n",
       "      <td>jpg</td>\n",
       "      <td>0</td>\n",
       "      <td>../data/processed/grayscale_resize/train/0.jpg</td>\n",
       "      <td>../data/processed/resize_100/train/0.jpg</td>\n",
       "    </tr>\n",
       "    <tr>\n",
       "      <th>1</th>\n",
       "      <td>../data/train/Type_1/10.jpg</td>\n",
       "      <td>Type_1</td>\n",
       "      <td>jpg</td>\n",
       "      <td>10</td>\n",
       "      <td>../data/processed/grayscale_resize/train/10.jpg</td>\n",
       "      <td>../data/processed/resize_100/train/10.jpg</td>\n",
       "    </tr>\n",
       "    <tr>\n",
       "      <th>2</th>\n",
       "      <td>../data/train/Type_1/1013.jpg</td>\n",
       "      <td>Type_1</td>\n",
       "      <td>jpg</td>\n",
       "      <td>1013</td>\n",
       "      <td>../data/processed/grayscale_resize/train/1013.jpg</td>\n",
       "      <td>../data/processed/resize_100/train/1013.jpg</td>\n",
       "    </tr>\n",
       "    <tr>\n",
       "      <th>3</th>\n",
       "      <td>../data/train/Type_1/1014.jpg</td>\n",
       "      <td>Type_1</td>\n",
       "      <td>jpg</td>\n",
       "      <td>1014</td>\n",
       "      <td>../data/processed/grayscale_resize/train/1014.jpg</td>\n",
       "      <td>../data/processed/resize_100/train/1014.jpg</td>\n",
       "    </tr>\n",
       "    <tr>\n",
       "      <th>4</th>\n",
       "      <td>../data/train/Type_1/1019.jpg</td>\n",
       "      <td>Type_1</td>\n",
       "      <td>jpg</td>\n",
       "      <td>1019</td>\n",
       "      <td>../data/processed/grayscale_resize/train/1019.jpg</td>\n",
       "      <td>../data/processed/resize_100/train/1019.jpg</td>\n",
       "    </tr>\n",
       "  </tbody>\n",
       "</table>\n",
       "</div>"
      ],
      "text/plain": [
       "                            path    type filetype num_id  \\\n",
       "0     ../data/train/Type_1/0.jpg  Type_1      jpg      0   \n",
       "1    ../data/train/Type_1/10.jpg  Type_1      jpg     10   \n",
       "2  ../data/train/Type_1/1013.jpg  Type_1      jpg   1013   \n",
       "3  ../data/train/Type_1/1014.jpg  Type_1      jpg   1014   \n",
       "4  ../data/train/Type_1/1019.jpg  Type_1      jpg   1019   \n",
       "\n",
       "                               grayscale_resize_path  \\\n",
       "0     ../data/processed/grayscale_resize/train/0.jpg   \n",
       "1    ../data/processed/grayscale_resize/train/10.jpg   \n",
       "2  ../data/processed/grayscale_resize/train/1013.jpg   \n",
       "3  ../data/processed/grayscale_resize/train/1014.jpg   \n",
       "4  ../data/processed/grayscale_resize/train/1019.jpg   \n",
       "\n",
       "                               resize_100_path  \n",
       "0     ../data/processed/resize_100/train/0.jpg  \n",
       "1    ../data/processed/resize_100/train/10.jpg  \n",
       "2  ../data/processed/resize_100/train/1013.jpg  \n",
       "3  ../data/processed/resize_100/train/1014.jpg  \n",
       "4  ../data/processed/resize_100/train/1019.jpg  "
      ]
     },
     "execution_count": 28,
     "metadata": {},
     "output_type": "execute_result"
    }
   ],
   "source": [
    "df = c.processing.transform_save_imgs(df, c.processing.resize_100); df.head()"
   ]
  },
  {
   "cell_type": "code",
   "execution_count": 23,
   "metadata": {},
   "outputs": [
    {
     "data": {
      "text/html": [
       "<div>\n",
       "<style>\n",
       "    .dataframe thead tr:only-child th {\n",
       "        text-align: right;\n",
       "    }\n",
       "\n",
       "    .dataframe thead th {\n",
       "        text-align: left;\n",
       "    }\n",
       "\n",
       "    .dataframe tbody tr th {\n",
       "        vertical-align: top;\n",
       "    }\n",
       "</style>\n",
       "<table border=\"1\" class=\"dataframe\">\n",
       "  <thead>\n",
       "    <tr style=\"text-align: right;\">\n",
       "      <th></th>\n",
       "      <th>path</th>\n",
       "      <th>num_id</th>\n",
       "      <th>grayscale_resize_path</th>\n",
       "      <th>resize_100_path</th>\n",
       "    </tr>\n",
       "  </thead>\n",
       "  <tbody>\n",
       "    <tr>\n",
       "      <th>0</th>\n",
       "      <td>../data/test/0.jpg</td>\n",
       "      <td>0</td>\n",
       "      <td>../data/processed/grayscale_resize/test/0.jpg</td>\n",
       "      <td>../data/processed/resize_100/test/0.jpg</td>\n",
       "    </tr>\n",
       "    <tr>\n",
       "      <th>1</th>\n",
       "      <td>../data/test/1.jpg</td>\n",
       "      <td>1</td>\n",
       "      <td>../data/processed/grayscale_resize/test/1.jpg</td>\n",
       "      <td>../data/processed/resize_100/test/1.jpg</td>\n",
       "    </tr>\n",
       "    <tr>\n",
       "      <th>2</th>\n",
       "      <td>../data/test/10.jpg</td>\n",
       "      <td>10</td>\n",
       "      <td>../data/processed/grayscale_resize/test/10.jpg</td>\n",
       "      <td>../data/processed/resize_100/test/10.jpg</td>\n",
       "    </tr>\n",
       "    <tr>\n",
       "      <th>3</th>\n",
       "      <td>../data/test/100.jpg</td>\n",
       "      <td>100</td>\n",
       "      <td>../data/processed/grayscale_resize/test/100.jpg</td>\n",
       "      <td>../data/processed/resize_100/test/100.jpg</td>\n",
       "    </tr>\n",
       "    <tr>\n",
       "      <th>4</th>\n",
       "      <td>../data/test/101.jpg</td>\n",
       "      <td>101</td>\n",
       "      <td>../data/processed/grayscale_resize/test/101.jpg</td>\n",
       "      <td>../data/processed/resize_100/test/101.jpg</td>\n",
       "    </tr>\n",
       "  </tbody>\n",
       "</table>\n",
       "</div>"
      ],
      "text/plain": [
       "                   path num_id  \\\n",
       "0    ../data/test/0.jpg      0   \n",
       "1    ../data/test/1.jpg      1   \n",
       "2   ../data/test/10.jpg     10   \n",
       "3  ../data/test/100.jpg    100   \n",
       "4  ../data/test/101.jpg    101   \n",
       "\n",
       "                             grayscale_resize_path  \\\n",
       "0    ../data/processed/grayscale_resize/test/0.jpg   \n",
       "1    ../data/processed/grayscale_resize/test/1.jpg   \n",
       "2   ../data/processed/grayscale_resize/test/10.jpg   \n",
       "3  ../data/processed/grayscale_resize/test/100.jpg   \n",
       "4  ../data/processed/grayscale_resize/test/101.jpg   \n",
       "\n",
       "                             resize_100_path  \n",
       "0    ../data/processed/resize_100/test/0.jpg  \n",
       "1    ../data/processed/resize_100/test/1.jpg  \n",
       "2   ../data/processed/resize_100/test/10.jpg  \n",
       "3  ../data/processed/resize_100/test/100.jpg  \n",
       "4  ../data/processed/resize_100/test/101.jpg  "
      ]
     },
     "execution_count": 23,
     "metadata": {},
     "output_type": "execute_result"
    }
   ],
   "source": [
    "tdf100 = c.processing.transform_save_imgs(tdf, c.processing.resize_100); tdf100.head()"
   ]
  },
  {
   "cell_type": "code",
   "execution_count": 26,
   "metadata": {},
   "outputs": [
    {
     "name": "stdout",
     "output_type": "stream",
     "text": [
      "(512, 30000)\n",
      "(512,)\n"
     ]
    }
   ],
   "source": [
    "X100, y100 = c.processing.random_forest_transform(tdf100, 'resize_100_path', grayscale=False, test=True)\n",
    "print(X100.shape)\n",
    "print(y100.shape)"
   ]
  },
  {
   "cell_type": "code",
   "execution_count": null,
   "metadata": {
    "collapsed": true
   },
   "outputs": [],
   "source": []
  },
  {
   "cell_type": "code",
   "execution_count": 25,
   "metadata": {},
   "outputs": [
    {
     "ename": "NameError",
     "evalue": "name 'Xrgb' is not defined",
     "output_type": "error",
     "traceback": [
      "\u001b[0;31m---------------------------------------------------------------------------\u001b[0m",
      "\u001b[0;31mNameError\u001b[0m                                 Traceback (most recent call last)",
      "\u001b[0;32m<ipython-input-25-9875462754a4>\u001b[0m in \u001b[0;36m<module>\u001b[0;34m()\u001b[0m\n\u001b[1;32m      1\u001b[0m X_trainrgb, X_testrgb, y_trainrgb, y_testrgb = train_test_split(\n\u001b[0;32m----> 2\u001b[0;31m     Xrgb, yrgb, test_size=0.33, random_state=42)\n\u001b[0m",
      "\u001b[0;31mNameError\u001b[0m: name 'Xrgb' is not defined"
     ]
    }
   ],
   "source": [
    "X_trainrgb, X_testrgb, y_trainrgb, y_testrgb = train_test_split(\n",
    "    Xrgb, yrgb, test_size=0.33, random_state=42)"
   ]
  },
  {
   "cell_type": "code",
   "execution_count": null,
   "metadata": {
    "collapsed": true
   },
   "outputs": [],
   "source": [
    "print(X_train.shape)\n",
    "print(y_train.shape)\n",
    "print(X_test.shape)\n",
    "print(y_test.shape)"
   ]
  },
  {
   "cell_type": "code",
   "execution_count": null,
   "metadata": {
    "collapsed": true
   },
   "outputs": [],
   "source": [
    "score, ldf = cervix.submission.compute_losses('../data/dev_submission.csv')"
   ]
  },
  {
   "cell_type": "code",
   "execution_count": null,
   "metadata": {
    "collapsed": true
   },
   "outputs": [],
   "source": [
    "score"
   ]
  },
  {
   "cell_type": "code",
   "execution_count": null,
   "metadata": {
    "collapsed": true
   },
   "outputs": [],
   "source": [
    "ldf"
   ]
  },
  {
   "cell_type": "code",
   "execution_count": 27,
   "metadata": {
    "scrolled": true
   },
   "outputs": [
    {
     "ename": "AttributeError",
     "evalue": "'DataFrame' object has no attribute 'resize_100_path'",
     "output_type": "error",
     "traceback": [
      "\u001b[0;31m---------------------------------------------------------------------------\u001b[0m",
      "\u001b[0;31mAttributeError\u001b[0m                            Traceback (most recent call last)",
      "\u001b[0;32m<ipython-input-27-3fa031c253aa>\u001b[0m in \u001b[0;36m<module>\u001b[0;34m()\u001b[0m\n\u001b[0;32m----> 1\u001b[0;31m \u001b[0mc\u001b[0m\u001b[0;34m.\u001b[0m\u001b[0mdata\u001b[0m\u001b[0;34m.\u001b[0m\u001b[0mcheck_image\u001b[0m\u001b[0;34m(\u001b[0m\u001b[0mdf\u001b[0m\u001b[0;34m.\u001b[0m\u001b[0mresize_100_path\u001b[0m\u001b[0;34m[\u001b[0m\u001b[0;36m0\u001b[0m\u001b[0;34m]\u001b[0m\u001b[0;34m)\u001b[0m\u001b[0;34m\u001b[0m\u001b[0m\n\u001b[0m",
      "\u001b[0;32m/Users/dbcerigo/dev/cervix/venv/lib/python2.7/site-packages/pandas/core/generic.pyc\u001b[0m in \u001b[0;36m__getattr__\u001b[0;34m(self, name)\u001b[0m\n\u001b[1;32m   2968\u001b[0m             \u001b[0;32mif\u001b[0m \u001b[0mname\u001b[0m \u001b[0;32min\u001b[0m \u001b[0mself\u001b[0m\u001b[0;34m.\u001b[0m\u001b[0m_info_axis\u001b[0m\u001b[0;34m:\u001b[0m\u001b[0;34m\u001b[0m\u001b[0m\n\u001b[1;32m   2969\u001b[0m                 \u001b[0;32mreturn\u001b[0m \u001b[0mself\u001b[0m\u001b[0;34m[\u001b[0m\u001b[0mname\u001b[0m\u001b[0;34m]\u001b[0m\u001b[0;34m\u001b[0m\u001b[0m\n\u001b[0;32m-> 2970\u001b[0;31m             \u001b[0;32mreturn\u001b[0m \u001b[0mobject\u001b[0m\u001b[0;34m.\u001b[0m\u001b[0m__getattribute__\u001b[0m\u001b[0;34m(\u001b[0m\u001b[0mself\u001b[0m\u001b[0;34m,\u001b[0m \u001b[0mname\u001b[0m\u001b[0;34m)\u001b[0m\u001b[0;34m\u001b[0m\u001b[0m\n\u001b[0m\u001b[1;32m   2971\u001b[0m \u001b[0;34m\u001b[0m\u001b[0m\n\u001b[1;32m   2972\u001b[0m     \u001b[0;32mdef\u001b[0m \u001b[0m__setattr__\u001b[0m\u001b[0;34m(\u001b[0m\u001b[0mself\u001b[0m\u001b[0;34m,\u001b[0m \u001b[0mname\u001b[0m\u001b[0;34m,\u001b[0m \u001b[0mvalue\u001b[0m\u001b[0;34m)\u001b[0m\u001b[0;34m:\u001b[0m\u001b[0;34m\u001b[0m\u001b[0m\n",
      "\u001b[0;31mAttributeError\u001b[0m: 'DataFrame' object has no attribute 'resize_100_path'"
     ]
    }
   ],
   "source": [
    "c.data.check_image(df.resize_100_path[0])"
   ]
  },
  {
   "cell_type": "code",
   "execution_count": null,
   "metadata": {
    "collapsed": true,
    "scrolled": true
   },
   "outputs": [],
   "source": [
    "c.data.check_image(tdf.path[1])"
   ]
  },
  {
   "cell_type": "code",
   "execution_count": null,
   "metadata": {
    "collapsed": true
   },
   "outputs": [],
   "source": []
  }
 ],
 "metadata": {
  "kernelspec": {
   "display_name": "Python 2",
   "language": "python",
   "name": "python2"
  },
  "language_info": {
   "codemirror_mode": {
    "name": "ipython",
    "version": 2
   },
   "file_extension": ".py",
   "mimetype": "text/x-python",
   "name": "python",
   "nbconvert_exporter": "python",
   "pygments_lexer": "ipython2",
   "version": "2.7.10"
  }
 },
 "nbformat": 4,
 "nbformat_minor": 2
}
