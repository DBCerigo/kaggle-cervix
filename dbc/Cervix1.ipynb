{
 "cells": [
  {
   "cell_type": "code",
   "execution_count": 141,
   "metadata": {},
   "outputs": [],
   "source": [
    "from __future__ import print_function, division\n",
    "#virtualenv -p python3 venv"
   ]
  },
  {
   "cell_type": "code",
   "execution_count": 142,
   "metadata": {},
   "outputs": [],
   "source": [
    "%matplotlib inline\n",
    "import matplotlib.pyplot as plt\n",
    "plt.style.use('ggplot')\n",
    "import cPickle as pk\n",
    "import pandas as pd\n",
    "import numpy as np\n",
    "from IPython.display import clear_output"
   ]
  },
  {
   "cell_type": "code",
   "execution_count": 143,
   "metadata": {},
   "outputs": [],
   "source": [
    "import os\n",
    "import sys\n",
    "base_module_path = os.path.abspath(os.path.join('..'))\n",
    "if base_module_path not in sys.path:\n",
    "    sys.path.append(base_module_path)\n",
    "import cervix"
   ]
  },
  {
   "cell_type": "code",
   "execution_count": 144,
   "metadata": {
    "scrolled": true
   },
   "outputs": [
    {
     "name": "stdout",
     "output_type": "stream",
     "text": [
      "0.jpg     1174.jpg  1344.jpg  215.jpg   384.jpg   551.jpg   700.jpg   855.jpg\r\n",
      "10.jpg    1179.jpg  1346.jpg  218.jpg   387.jpg   553.jpg   708.jpg   873.jpg\r\n",
      "1013.jpg  1190.jpg  1370.jpg  229.jpg   396.jpg   558.jpg   709.jpg   879.jpg\r\n",
      "1014.jpg  1194.jpg  138.jpg   230.jpg   401.jpg   560.jpg   710.jpg   880.jpg\r\n",
      "1019.jpg  1199.jpg  1384.jpg  237.jpg   41.jpg    562.jpg   713.jpg   887.jpg\r\n",
      "102.jpg   12.jpg    1389.jpg  239.jpg   416.jpg   57.jpg    725.jpg   889.jpg\r\n",
      "1023.jpg  1202.jpg  139.jpg   245.jpg   421.jpg   576.jpg   727.jpg   890.jpg\r\n",
      "1024.jpg  1204.jpg  1390.jpg  248.jpg   425.jpg   578.jpg   732.jpg   891.jpg\r\n",
      "1026.jpg  1220.jpg  1393.jpg  252.jpg   434.jpg   579.jpg   739.jpg   895.jpg\r\n",
      "1027.jpg  1223.jpg  14.jpg    254.jpg   441.jpg   580.jpg   745.jpg   901.jpg\r\n",
      "1033.jpg  1226.jpg  1414.jpg  262.jpg   446.jpg   582.jpg   751.jpg   906.jpg\r\n",
      "104.jpg   1229.jpg  142.jpg   265.jpg   454.jpg   583.jpg   759.jpg   908.jpg\r\n",
      "1040.jpg  1230.jpg  1422.jpg  267.jpg   463.jpg   593.jpg   763.jpg   917.jpg\r\n",
      "1056.jpg  1239.jpg  1427.jpg  27.jpg    469.jpg   596.jpg   764.jpg   918.jpg\r\n",
      "1059.jpg  1245.jpg  1430.jpg  281.jpg   47.jpg    605.jpg   765.jpg   920.jpg\r\n",
      "1061.jpg  1251.jpg  1437.jpg  294.jpg   470.jpg   619.jpg   769.jpg   921.jpg\r\n",
      "1070.jpg  1273.jpg  144.jpg   298.jpg   471.jpg   620.jpg   779.jpg   928.jpg\r\n",
      "1071.jpg  1274.jpg  1440.jpg  306.jpg   478.jpg   623.jpg   783.jpg   930.jpg\r\n",
      "1077.jpg  1279.jpg  1456.jpg  308.jpg   48.jpg    624.jpg   787.jpg   96.jpg\r\n",
      "1079.jpg  1281.jpg  1464.jpg  311.jpg   481.jpg   641.jpg   791.jpg   965.jpg\r\n",
      "109.jpg   1285.jpg  1468.jpg  333.jpg   484.jpg   643.jpg   802.jpg   972.jpg\r\n",
      "1093.jpg  1288.jpg  1473.jpg  334.jpg   497.jpg   645.jpg   805.jpg   977.jpg\r\n",
      "1100.jpg  1289.jpg  148.jpg   338.jpg   513.jpg   649.jpg   809.jpg   982.jpg\r\n",
      "1105.jpg  129.jpg   160.jpg   34.jpg    516.jpg   653.jpg   81.jpg    984.jpg\r\n",
      "1123.jpg  13.jpg    171.jpg   342.jpg   518.jpg   660.jpg   810.jpg   991.jpg\r\n",
      "1131.jpg  1308.jpg  176.jpg   346.jpg   523.jpg   663.jpg   814.jpg   998.jpg\r\n",
      "1134.jpg  1314.jpg  180.jpg   349.jpg   531.jpg   667.jpg   817.jpg\r\n",
      "1136.jpg  1320.jpg  181.jpg   35.jpg    532.jpg   668.jpg   821.jpg\r\n",
      "1139.jpg  1324.jpg  191.jpg   356.jpg   536.jpg   677.jpg   833.jpg\r\n",
      "1154.jpg  1326.jpg  201.jpg   376.jpg   539.jpg   683.jpg   836.jpg\r\n",
      "1161.jpg  1336.jpg  205.jpg   379.jpg   55.jpg    685.jpg   842.jpg\r\n",
      "1168.jpg  1339.jpg  208.jpg   383.jpg   550.jpg   7.jpg     846.jpg\r\n"
     ]
    }
   ],
   "source": [
    "ls ../data/train/Type_1/"
   ]
  },
  {
   "cell_type": "code",
   "execution_count": 145,
   "metadata": {},
   "outputs": [],
   "source": [
    "df = cervix.data.make_base_df()"
   ]
  },
  {
   "cell_type": "code",
   "execution_count": 146,
   "metadata": {},
   "outputs": [],
   "source": [
    "score, ldf = cervix.submission.compute_losses('../data/dev_submission.csv')"
   ]
  },
  {
   "cell_type": "code",
   "execution_count": 147,
   "metadata": {},
   "outputs": [
    {
     "data": {
      "text/plain": [
       "9.6126998500847076"
      ]
     },
     "execution_count": 147,
     "metadata": {},
     "output_type": "execute_result"
    }
   ],
   "source": [
    "score"
   ]
  },
  {
   "cell_type": "code",
   "execution_count": 148,
   "metadata": {},
   "outputs": [
    {
     "data": {
      "text/html": [
       "<div>\n",
       "<style>\n",
       "    .dataframe thead tr:only-child th {\n",
       "        text-align: right;\n",
       "    }\n",
       "\n",
       "    .dataframe thead th {\n",
       "        text-align: left;\n",
       "    }\n",
       "\n",
       "    .dataframe tbody tr th {\n",
       "        vertical-align: top;\n",
       "    }\n",
       "</style>\n",
       "<table border=\"1\" class=\"dataframe\">\n",
       "  <thead>\n",
       "    <tr style=\"text-align: right;\">\n",
       "      <th></th>\n",
       "      <th>image_name</th>\n",
       "      <th>Type_1</th>\n",
       "      <th>Type_2</th>\n",
       "      <th>Type_3</th>\n",
       "      <th>Type</th>\n",
       "      <th>log_l</th>\n",
       "    </tr>\n",
       "  </thead>\n",
       "  <tbody>\n",
       "    <tr>\n",
       "      <th>3</th>\n",
       "      <td>3.jpg</td>\n",
       "      <td>0.0</td>\n",
       "      <td>0.0</td>\n",
       "      <td>1.0</td>\n",
       "      <td>Type_2</td>\n",
       "      <td>3.453878e+01</td>\n",
       "    </tr>\n",
       "    <tr>\n",
       "      <th>0</th>\n",
       "      <td>0.jpg</td>\n",
       "      <td>0.1</td>\n",
       "      <td>0.3</td>\n",
       "      <td>0.6</td>\n",
       "      <td>Type_1</td>\n",
       "      <td>2.302585e+00</td>\n",
       "    </tr>\n",
       "    <tr>\n",
       "      <th>2</th>\n",
       "      <td>2.jpg</td>\n",
       "      <td>0.5</td>\n",
       "      <td>0.3</td>\n",
       "      <td>0.2</td>\n",
       "      <td>Type_3</td>\n",
       "      <td>1.609438e+00</td>\n",
       "    </tr>\n",
       "    <tr>\n",
       "      <th>1</th>\n",
       "      <td>1.jpg</td>\n",
       "      <td>1.0</td>\n",
       "      <td>0.0</td>\n",
       "      <td>0.0</td>\n",
       "      <td>Type_1</td>\n",
       "      <td>9.992007e-16</td>\n",
       "    </tr>\n",
       "  </tbody>\n",
       "</table>\n",
       "</div>"
      ],
      "text/plain": [
       "  image_name  Type_1  Type_2  Type_3    Type         log_l\n",
       "3      3.jpg     0.0     0.0     1.0  Type_2  3.453878e+01\n",
       "0      0.jpg     0.1     0.3     0.6  Type_1  2.302585e+00\n",
       "2      2.jpg     0.5     0.3     0.2  Type_3  1.609438e+00\n",
       "1      1.jpg     1.0     0.0     0.0  Type_1  9.992007e-16"
      ]
     },
     "execution_count": 148,
     "metadata": {},
     "output_type": "execute_result"
    }
   ],
   "source": [
    "ldf"
   ]
  },
  {
   "cell_type": "code",
   "execution_count": null,
   "metadata": {
    "collapsed": true
   },
   "outputs": [],
   "source": []
  }
 ],
 "metadata": {
  "kernelspec": {
   "display_name": "Python 2",
   "language": "python",
   "name": "python2"
  },
  "language_info": {
   "codemirror_mode": {
    "name": "ipython",
    "version": 2
   },
   "file_extension": ".py",
   "mimetype": "text/x-python",
   "name": "python",
   "nbconvert_exporter": "python",
   "pygments_lexer": "ipython2",
   "version": "2.7.10"
  }
 },
 "nbformat": 4,
 "nbformat_minor": 2
}
