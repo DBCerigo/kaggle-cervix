{
 "cells": [
  {
   "cell_type": "code",
   "execution_count": 1,
   "metadata": {},
   "outputs": [],
   "source": [
    "from __future__ import print_function, division\n",
    "#virtualenv -p python3 venv"
   ]
  },
  {
   "cell_type": "code",
   "execution_count": 2,
   "metadata": {},
   "outputs": [],
   "source": [
    "%matplotlib inline\n",
    "import matplotlib.pyplot as plt\n",
    "plt.style.use('ggplot')\n",
    "import cPickle as pk\n",
    "import pandas as pd\n",
    "import numpy as np\n",
    "from IPython.display import clear_output"
   ]
  },
  {
   "cell_type": "code",
   "execution_count": 3,
   "metadata": {},
   "outputs": [],
   "source": [
    "import os\n",
    "import sys\n",
    "base_module_path = os.path.abspath(os.path.join('..'))\n",
    "if base_module_path not in sys.path:\n",
    "    sys.path.append(base_module_path)\n",
    "import cervix as c"
   ]
  },
  {
   "cell_type": "code",
   "execution_count": 4,
   "metadata": {
    "scrolled": true
   },
   "outputs": [
    {
     "name": "stdout",
     "output_type": "stream",
     "text": [
      "\u001b[34mType_1\u001b[m\u001b[m/ \u001b[34mType_2\u001b[m\u001b[m/ \u001b[34mType_3\u001b[m\u001b[m/\r\n"
     ]
    }
   ],
   "source": [
    "ls ../data/train/"
   ]
  },
  {
   "cell_type": "code",
   "execution_count": 5,
   "metadata": {},
   "outputs": [
    {
     "data": {
      "text/html": [
       "<div>\n",
       "<style>\n",
       "    .dataframe thead tr:only-child th {\n",
       "        text-align: right;\n",
       "    }\n",
       "\n",
       "    .dataframe thead th {\n",
       "        text-align: left;\n",
       "    }\n",
       "\n",
       "    .dataframe tbody tr th {\n",
       "        vertical-align: top;\n",
       "    }\n",
       "</style>\n",
       "<table border=\"1\" class=\"dataframe\">\n",
       "  <thead>\n",
       "    <tr style=\"text-align: right;\">\n",
       "      <th></th>\n",
       "      <th>path</th>\n",
       "      <th>num_id</th>\n",
       "    </tr>\n",
       "  </thead>\n",
       "  <tbody>\n",
       "    <tr>\n",
       "      <th>0</th>\n",
       "      <td>../data/test/0.jpg</td>\n",
       "      <td>0</td>\n",
       "    </tr>\n",
       "    <tr>\n",
       "      <th>1</th>\n",
       "      <td>../data/test/1.jpg</td>\n",
       "      <td>1</td>\n",
       "    </tr>\n",
       "    <tr>\n",
       "      <th>2</th>\n",
       "      <td>../data/test/10.jpg</td>\n",
       "      <td>10</td>\n",
       "    </tr>\n",
       "    <tr>\n",
       "      <th>3</th>\n",
       "      <td>../data/test/100.jpg</td>\n",
       "      <td>100</td>\n",
       "    </tr>\n",
       "    <tr>\n",
       "      <th>4</th>\n",
       "      <td>../data/test/101.jpg</td>\n",
       "      <td>101</td>\n",
       "    </tr>\n",
       "  </tbody>\n",
       "</table>\n",
       "</div>"
      ],
      "text/plain": [
       "                   path num_id\n",
       "0    ../data/test/0.jpg      0\n",
       "1    ../data/test/1.jpg      1\n",
       "2   ../data/test/10.jpg     10\n",
       "3  ../data/test/100.jpg    100\n",
       "4  ../data/test/101.jpg    101"
      ]
     },
     "execution_count": 5,
     "metadata": {},
     "output_type": "execute_result"
    }
   ],
   "source": [
    "df = c.data.make_base_df()\n",
    "tdf = c.data.make_test_df(); tdf.head()"
   ]
  },
  {
   "cell_type": "code",
   "execution_count": null,
   "metadata": {},
   "outputs": [],
   "source": [
    "#df = c.processing.save_grayscale(df)"
   ]
  },
  {
   "cell_type": "code",
   "execution_count": 6,
   "metadata": {},
   "outputs": [
    {
     "data": {
      "text/html": [
       "<div>\n",
       "<style>\n",
       "    .dataframe thead tr:only-child th {\n",
       "        text-align: right;\n",
       "    }\n",
       "\n",
       "    .dataframe thead th {\n",
       "        text-align: left;\n",
       "    }\n",
       "\n",
       "    .dataframe tbody tr th {\n",
       "        vertical-align: top;\n",
       "    }\n",
       "</style>\n",
       "<table border=\"1\" class=\"dataframe\">\n",
       "  <thead>\n",
       "    <tr style=\"text-align: right;\">\n",
       "      <th></th>\n",
       "      <th>path</th>\n",
       "      <th>type</th>\n",
       "      <th>filetype</th>\n",
       "      <th>num_id</th>\n",
       "    </tr>\n",
       "  </thead>\n",
       "  <tbody>\n",
       "    <tr>\n",
       "      <th>0</th>\n",
       "      <td>../data/train/Type_1/0.jpg</td>\n",
       "      <td>Type_1</td>\n",
       "      <td>jpg</td>\n",
       "      <td>0</td>\n",
       "    </tr>\n",
       "    <tr>\n",
       "      <th>1</th>\n",
       "      <td>../data/train/Type_1/10.jpg</td>\n",
       "      <td>Type_1</td>\n",
       "      <td>jpg</td>\n",
       "      <td>10</td>\n",
       "    </tr>\n",
       "    <tr>\n",
       "      <th>2</th>\n",
       "      <td>../data/train/Type_1/1013.jpg</td>\n",
       "      <td>Type_1</td>\n",
       "      <td>jpg</td>\n",
       "      <td>1013</td>\n",
       "    </tr>\n",
       "    <tr>\n",
       "      <th>3</th>\n",
       "      <td>../data/train/Type_1/1014.jpg</td>\n",
       "      <td>Type_1</td>\n",
       "      <td>jpg</td>\n",
       "      <td>1014</td>\n",
       "    </tr>\n",
       "    <tr>\n",
       "      <th>4</th>\n",
       "      <td>../data/train/Type_1/1019.jpg</td>\n",
       "      <td>Type_1</td>\n",
       "      <td>jpg</td>\n",
       "      <td>1019</td>\n",
       "    </tr>\n",
       "  </tbody>\n",
       "</table>\n",
       "</div>"
      ],
      "text/plain": [
       "                            path    type filetype num_id\n",
       "0     ../data/train/Type_1/0.jpg  Type_1      jpg      0\n",
       "1    ../data/train/Type_1/10.jpg  Type_1      jpg     10\n",
       "2  ../data/train/Type_1/1013.jpg  Type_1      jpg   1013\n",
       "3  ../data/train/Type_1/1014.jpg  Type_1      jpg   1014\n",
       "4  ../data/train/Type_1/1019.jpg  Type_1      jpg   1019"
      ]
     },
     "execution_count": 6,
     "metadata": {},
     "output_type": "execute_result"
    }
   ],
   "source": [
    "df.head()"
   ]
  },
  {
   "cell_type": "code",
   "execution_count": 7,
   "metadata": {},
   "outputs": [],
   "source": [
    "df['gray_path'] = c.data.get_img_paths_for('gray', df.num_id)"
   ]
  },
  {
   "cell_type": "code",
   "execution_count": 9,
   "metadata": {},
   "outputs": [
    {
     "data": {
      "text/html": [
       "<div>\n",
       "<style>\n",
       "    .dataframe thead tr:only-child th {\n",
       "        text-align: right;\n",
       "    }\n",
       "\n",
       "    .dataframe thead th {\n",
       "        text-align: left;\n",
       "    }\n",
       "\n",
       "    .dataframe tbody tr th {\n",
       "        vertical-align: top;\n",
       "    }\n",
       "</style>\n",
       "<table border=\"1\" class=\"dataframe\">\n",
       "  <thead>\n",
       "    <tr style=\"text-align: right;\">\n",
       "      <th></th>\n",
       "      <th>path</th>\n",
       "      <th>type</th>\n",
       "      <th>filetype</th>\n",
       "      <th>num_id</th>\n",
       "      <th>gray_path</th>\n",
       "    </tr>\n",
       "  </thead>\n",
       "  <tbody>\n",
       "    <tr>\n",
       "      <th>0</th>\n",
       "      <td>../data/train/Type_1/0.jpg</td>\n",
       "      <td>Type_1</td>\n",
       "      <td>jpg</td>\n",
       "      <td>0</td>\n",
       "      <td>../data/gray/0.jpg</td>\n",
       "    </tr>\n",
       "    <tr>\n",
       "      <th>1</th>\n",
       "      <td>../data/train/Type_1/10.jpg</td>\n",
       "      <td>Type_1</td>\n",
       "      <td>jpg</td>\n",
       "      <td>10</td>\n",
       "      <td>../data/gray/10.jpg</td>\n",
       "    </tr>\n",
       "    <tr>\n",
       "      <th>2</th>\n",
       "      <td>../data/train/Type_1/1013.jpg</td>\n",
       "      <td>Type_1</td>\n",
       "      <td>jpg</td>\n",
       "      <td>1013</td>\n",
       "      <td>../data/gray/1013.jpg</td>\n",
       "    </tr>\n",
       "    <tr>\n",
       "      <th>3</th>\n",
       "      <td>../data/train/Type_1/1014.jpg</td>\n",
       "      <td>Type_1</td>\n",
       "      <td>jpg</td>\n",
       "      <td>1014</td>\n",
       "      <td>../data/gray/1014.jpg</td>\n",
       "    </tr>\n",
       "    <tr>\n",
       "      <th>4</th>\n",
       "      <td>../data/train/Type_1/1019.jpg</td>\n",
       "      <td>Type_1</td>\n",
       "      <td>jpg</td>\n",
       "      <td>1019</td>\n",
       "      <td>../data/gray/1019.jpg</td>\n",
       "    </tr>\n",
       "  </tbody>\n",
       "</table>\n",
       "</div>"
      ],
      "text/plain": [
       "                            path    type filetype num_id  \\\n",
       "0     ../data/train/Type_1/0.jpg  Type_1      jpg      0   \n",
       "1    ../data/train/Type_1/10.jpg  Type_1      jpg     10   \n",
       "2  ../data/train/Type_1/1013.jpg  Type_1      jpg   1013   \n",
       "3  ../data/train/Type_1/1014.jpg  Type_1      jpg   1014   \n",
       "4  ../data/train/Type_1/1019.jpg  Type_1      jpg   1019   \n",
       "\n",
       "               gray_path  \n",
       "0     ../data/gray/0.jpg  \n",
       "1    ../data/gray/10.jpg  \n",
       "2  ../data/gray/1013.jpg  \n",
       "3  ../data/gray/1014.jpg  \n",
       "4  ../data/gray/1019.jpg  "
      ]
     },
     "execution_count": 9,
     "metadata": {},
     "output_type": "execute_result"
    }
   ],
   "source": [
    "df.head()"
   ]
  },
  {
   "cell_type": "code",
   "execution_count": 20,
   "metadata": {},
   "outputs": [
    {
     "name": "stdout",
     "output_type": "stream",
     "text": [
      "(1481, 30000)\n",
      "(1481,)\n"
     ]
    }
   ],
   "source": [
    "X, y = c.processing.random_forest_transform(df)\n",
    "print(X.shape)\n",
    "print(y.shape)"
   ]
  },
  {
   "cell_type": "code",
   "execution_count": 11,
   "metadata": {
    "collapsed": true
   },
   "outputs": [],
   "source": [
    "import scipy"
   ]
  },
  {
   "cell_type": "code",
   "execution_count": 12,
   "metadata": {},
   "outputs": [],
   "source": [
    "import sklearn"
   ]
  },
  {
   "cell_type": "code",
   "execution_count": 13,
   "metadata": {},
   "outputs": [],
   "source": [
    "from sklearn.model_selection import train_test_split\n",
    "X_train, X_test, y_train, y_test = train_test_split(\n",
    "    X, y, test_size=0.33, random_state=42)"
   ]
  },
  {
   "cell_type": "code",
   "execution_count": 19,
   "metadata": {},
   "outputs": [
    {
     "name": "stdout",
     "output_type": "stream",
     "text": [
      "(992, 30000)\n",
      "(992,)\n",
      "(489, 30000)\n",
      "(489,)\n"
     ]
    }
   ],
   "source": [
    "print(X_train.shape)\n",
    "print(y_train.shape)\n",
    "print(X_test.shape)\n",
    "print(y_test.shape)"
   ]
  },
  {
   "cell_type": "code",
   "execution_count": 14,
   "metadata": {},
   "outputs": [
    {
     "data": {
      "text/plain": [
       "RandomForestClassifier(bootstrap=True, class_weight=None, criterion='gini',\n",
       "            max_depth=None, max_features='auto', max_leaf_nodes=None,\n",
       "            min_impurity_split=1e-07, min_samples_leaf=1,\n",
       "            min_samples_split=2, min_weight_fraction_leaf=0.0,\n",
       "            n_estimators=50, n_jobs=2, oob_score=False, random_state=None,\n",
       "            verbose=0, warm_start=False)"
      ]
     },
     "execution_count": 14,
     "metadata": {},
     "output_type": "execute_result"
    }
   ],
   "source": [
    "from sklearn.ensemble import RandomForestClassifier as RFC\n",
    "rfc = RFC(n_jobs=2,n_estimators=50)\n",
    "rfc.fit(X_train, y_train)"
   ]
  },
  {
   "cell_type": "code",
   "execution_count": 23,
   "metadata": {},
   "outputs": [
    {
     "data": {
      "text/plain": [
       "array(['1', '2', '2', '2', '3', '3', '2', '3', '1', '1', '1', '1', '3',\n",
       "       '2', '2', '2', '2', '2', '2', '3', '2', '3', '3', '2', '2', '3',\n",
       "       '3', '3', '2', '2', '2', '1', '2', '2', '2', '3', '1', '2', '2',\n",
       "       '1', '3', '2', '3', '3', '3', '2', '1', '2', '2', '2', '2', '3',\n",
       "       '3', '3', '3', '1', '3', '3', '2', '3', '2', '2', '2', '2', '3',\n",
       "       '2', '2', '3', '2', '2', '3', '2', '2', '3', '1', '2', '1', '2',\n",
       "       '1', '2', '3', '3', '2', '3', '2', '3', '3', '3', '1', '3', '2',\n",
       "       '3', '2', '2', '2', '2', '1', '1', '1', '2', '2', '2', '3', '3',\n",
       "       '3', '3', '3', '2', '3', '3', '1', '2', '3', '2', '2', '2', '2',\n",
       "       '3', '1', '2', '2', '2', '1', '2', '3', '2', '1', '1', '3', '3',\n",
       "       '3', '3', '2', '2', '2', '3', '2', '3', '2', '2', '2', '2', '3',\n",
       "       '1', '3', '3', '1', '2', '2', '2', '1', '2', '3', '2', '2', '1',\n",
       "       '1', '2', '3', '2', '3', '3', '2', '3', '1', '3', '3', '3', '1',\n",
       "       '1', '2', '2', '3', '1', '2', '3', '2', '2', '2', '2', '2', '3',\n",
       "       '2', '3', '1', '3', '3', '3', '2', '1', '2', '3', '3', '3', '2',\n",
       "       '1', '3', '2', '2', '1', '2', '2', '3', '3', '2', '2', '2', '1',\n",
       "       '2', '3', '2', '2', '2', '1', '1', '3', '3', '3', '3', '3', '3',\n",
       "       '3', '3', '3', '3', '2', '2', '2', '2', '1', '3', '3', '2', '2',\n",
       "       '2', '2', '3', '2', '2', '2', '3', '2', '3', '3', '1', '2', '3',\n",
       "       '3', '2', '3', '2', '1', '2', '2', '3', '3', '2', '3', '1', '2',\n",
       "       '2', '3', '1', '2', '2', '3', '2', '2', '3', '2', '2', '3', '3',\n",
       "       '3', '3', '1', '2', '1', '3', '1', '3', '3', '1', '3', '2', '3',\n",
       "       '2', '3', '2', '2', '2', '2', '3', '3', '2', '3', '2', '2', '2',\n",
       "       '2', '2', '2', '2', '3', '2', '2', '3', '2', '3', '2', '2', '2',\n",
       "       '2', '1', '3', '2', '2', '3', '3', '3', '2', '3', '2', '1', '1',\n",
       "       '3', '2', '1', '2', '2', '3', '2', '3', '2', '2', '3', '3', '1',\n",
       "       '3', '1', '2', '2', '2', '3', '2', '2', '1', '2', '2', '3', '2',\n",
       "       '3', '1', '2', '1', '1', '2', '3', '2', '3', '2', '3', '3', '2',\n",
       "       '1', '3', '3', '2', '2', '2', '2', '3', '3', '2', '2', '2', '2',\n",
       "       '3', '3', '1', '2', '2', '2', '2', '2', '3', '2', '2', '3', '2',\n",
       "       '1', '2', '3', '2', '3', '1', '2', '1', '2', '3', '2', '2', '2',\n",
       "       '3', '2', '3', '2', '2', '2', '3', '2', '1', '2', '2', '3', '3',\n",
       "       '2', '2', '1', '2', '2', '3', '1', '2', '1', '3', '2', '2', '3',\n",
       "       '2', '2', '2', '1', '2', '2', '3', '2', '2', '1', '1', '2', '2',\n",
       "       '2', '2', '2', '2', '2', '2', '2', '2', '1', '2', '2', '2', '2',\n",
       "       '2', '2', '1', '2', '2', '2', '2', '3', '3', '3', '2', '1', '2',\n",
       "       '3', '2', '2', '2', '3', '2', '2', '3', '3', '1', '3', '2', '2',\n",
       "       '3', '1', '2', '3', '2', '2', '2', '2'], \n",
       "      dtype='|S1')"
      ]
     },
     "execution_count": 23,
     "metadata": {},
     "output_type": "execute_result"
    }
   ],
   "source": [
    "y_test"
   ]
  },
  {
   "cell_type": "code",
   "execution_count": 22,
   "metadata": {},
   "outputs": [
    {
     "data": {
      "text/plain": [
       "array([[ 0.14,  0.58,  0.28],\n",
       "       [ 0.28,  0.5 ,  0.22],\n",
       "       [ 0.16,  0.66,  0.18],\n",
       "       ..., \n",
       "       [ 0.08,  0.88,  0.04],\n",
       "       [ 0.16,  0.38,  0.46],\n",
       "       [ 0.2 ,  0.54,  0.26]])"
      ]
     },
     "execution_count": 22,
     "metadata": {},
     "output_type": "execute_result"
    }
   ],
   "source": [
    "preds_probs = rfc.predict_proba(X_test); preds_probs"
   ]
  },
  {
   "cell_type": "code",
   "execution_count": 24,
   "metadata": {},
   "outputs": [
    {
     "data": {
      "text/plain": [
       "0.4887525562372188"
      ]
     },
     "execution_count": 24,
     "metadata": {},
     "output_type": "execute_result"
    }
   ],
   "source": [
    "rfc.score(X_test, y_test)  "
   ]
  },
  {
   "cell_type": "code",
   "execution_count": null,
   "metadata": {
    "collapsed": true
   },
   "outputs": [],
   "source": [
    "test_df = c.data.make_test_df()\n",
    "test_df = c.processing.save_grayscale(df)"
   ]
  },
  {
   "cell_type": "code",
   "execution_count": null,
   "metadata": {
    "collapsed": true
   },
   "outputs": [],
   "source": []
  },
  {
   "cell_type": "code",
   "execution_count": null,
   "metadata": {
    "collapsed": true
   },
   "outputs": [],
   "source": []
  },
  {
   "cell_type": "code",
   "execution_count": null,
   "metadata": {},
   "outputs": [],
   "source": [
    "score, ldf = cervix.submission.compute_losses('../data/dev_submission.csv')"
   ]
  },
  {
   "cell_type": "code",
   "execution_count": null,
   "metadata": {},
   "outputs": [],
   "source": [
    "score"
   ]
  },
  {
   "cell_type": "code",
   "execution_count": null,
   "metadata": {},
   "outputs": [],
   "source": [
    "ldf"
   ]
  },
  {
   "cell_type": "code",
   "execution_count": 18,
   "metadata": {
    "scrolled": true
   },
   "outputs": [
    {
     "name": "stdout",
     "output_type": "stream",
     "text": [
      "../data/gray/0.jpg\n",
      "(100, 100)\n",
      "[[1 0 0 ..., 0 0 0]\n",
      " [1 0 0 ..., 0 0 0]\n",
      " [1 0 0 ..., 0 0 0]\n",
      " ..., \n",
      " [0 1 1 ..., 0 0 0]\n",
      " [0 1 1 ..., 0 0 0]\n",
      " [0 1 1 ..., 0 0 0]]\n"
     ]
    },
    {
     "data": {
      "image/png": "[encoded data removed]",
      "text/plain": [
       "<matplotlib.figure.Figure at 0x112383990>"
      ]
     },
     "metadata": {},
     "output_type": "display_data"
    }
   ],
   "source": [
    "c.data.check_image(df.gray_path[0])"
   ]
  },
  {
   "cell_type": "code",
   "execution_count": null,
   "metadata": {
    "scrolled": true
   },
   "outputs": [],
   "source": [
    "c.data.check_image(tdf.path[1])"
   ]
  },
  {
   "cell_type": "code",
   "execution_count": null,
   "metadata": {
    "collapsed": true
   },
   "outputs": [],
   "source": []
  }
 ],
 "metadata": {
  "kernelspec": {
   "display_name": "Python 2",
   "language": "python",
   "name": "python2"
  },
  "language_info": {
   "codemirror_mode": {
    "name": "ipython",
    "version": 2
   },
   "file_extension": ".py",
   "mimetype": "text/x-python",
   "name": "python",
   "nbconvert_exporter": "python",
   "pygments_lexer": "ipython2",
   "version": "2.7.10"
  }
 },
 "nbformat": 4,
 "nbformat_minor": 2
}
