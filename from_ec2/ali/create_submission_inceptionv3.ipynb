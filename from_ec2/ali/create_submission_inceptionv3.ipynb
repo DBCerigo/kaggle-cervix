{
 "cells": [
  {
   "cell_type": "code",
   "execution_count": 1,
   "metadata": {},
   "outputs": [
    {
     "name": "stderr",
     "output_type": "stream",
     "text": [
      "Using TensorFlow backend.\n"
     ]
    }
   ],
   "source": [
    "import os\n",
    "import sys\n",
    "base_module_path = os.path.abspath(os.path.join('..'))\n",
    "if base_module_path not in sys.path:\n",
    "    sys.path.append(base_module_path)\n",
    "import cervix as c"
   ]
  },
  {
   "cell_type": "code",
   "execution_count": 2,
   "metadata": {
    "collapsed": true
   },
   "outputs": [],
   "source": [
    "import pandas as pd\n",
    "import numpy as np \n",
    "import keras"
   ]
  },
  {
   "cell_type": "code",
   "execution_count": 3,
   "metadata": {},
   "outputs": [
    {
     "data": {
      "text/html": [
       "<div>\n",
       "<style>\n",
       "    .dataframe thead tr:only-child th {\n",
       "        text-align: right;\n",
       "    }\n",
       "\n",
       "    .dataframe thead th {\n",
       "        text-align: left;\n",
       "    }\n",
       "\n",
       "    .dataframe tbody tr th {\n",
       "        vertical-align: top;\n",
       "    }\n",
       "</style>\n",
       "<table border=\"1\" class=\"dataframe\">\n",
       "  <thead>\n",
       "    <tr style=\"text-align: right;\">\n",
       "      <th></th>\n",
       "      <th>path</th>\n",
       "      <th>Type</th>\n",
       "      <th>filetype</th>\n",
       "      <th>num_id</th>\n",
       "      <th>processed_path</th>\n",
       "    </tr>\n",
       "  </thead>\n",
       "  <tbody>\n",
       "    <tr>\n",
       "      <th>0</th>\n",
       "      <td>../data/train/Type_1/1324.jpg</td>\n",
       "      <td>1</td>\n",
       "      <td>jpg</td>\n",
       "      <td>1324</td>\n",
       "      <td>../data/processed/resize_224/train/1324.jpg</td>\n",
       "    </tr>\n",
       "    <tr>\n",
       "      <th>1</th>\n",
       "      <td>../data/train/Type_1/583.jpg</td>\n",
       "      <td>1</td>\n",
       "      <td>jpg</td>\n",
       "      <td>583</td>\n",
       "      <td>../data/processed/resize_224/train/583.jpg</td>\n",
       "    </tr>\n",
       "    <tr>\n",
       "      <th>2</th>\n",
       "      <td>../data/train/Type_1/551.jpg</td>\n",
       "      <td>1</td>\n",
       "      <td>jpg</td>\n",
       "      <td>551</td>\n",
       "      <td>../data/processed/resize_224/train/551.jpg</td>\n",
       "    </tr>\n",
       "    <tr>\n",
       "      <th>3</th>\n",
       "      <td>../data/train/Type_1/229.jpg</td>\n",
       "      <td>1</td>\n",
       "      <td>jpg</td>\n",
       "      <td>229</td>\n",
       "      <td>../data/processed/resize_224/train/229.jpg</td>\n",
       "    </tr>\n",
       "    <tr>\n",
       "      <th>4</th>\n",
       "      <td>../data/train/Type_1/1390.jpg</td>\n",
       "      <td>1</td>\n",
       "      <td>jpg</td>\n",
       "      <td>1390</td>\n",
       "      <td>../data/processed/resize_224/train/1390.jpg</td>\n",
       "    </tr>\n",
       "  </tbody>\n",
       "</table>\n",
       "</div>"
      ],
      "text/plain": [
       "                            path Type filetype num_id  \\\n",
       "0  ../data/train/Type_1/1324.jpg    1      jpg   1324   \n",
       "1   ../data/train/Type_1/583.jpg    1      jpg    583   \n",
       "2   ../data/train/Type_1/551.jpg    1      jpg    551   \n",
       "3   ../data/train/Type_1/229.jpg    1      jpg    229   \n",
       "4  ../data/train/Type_1/1390.jpg    1      jpg   1390   \n",
       "\n",
       "                                processed_path  \n",
       "0  ../data/processed/resize_224/train/1324.jpg  \n",
       "1   ../data/processed/resize_224/train/583.jpg  \n",
       "2   ../data/processed/resize_224/train/551.jpg  \n",
       "3   ../data/processed/resize_224/train/229.jpg  \n",
       "4  ../data/processed/resize_224/train/1390.jpg  "
      ]
     },
     "execution_count": 3,
     "metadata": {},
     "output_type": "execute_result"
    }
   ],
   "source": [
    "train = c.data.make_base_df()\n",
    "train = c.processing.transform_save_imgs(train, c.processing.resize_n, n=224); train.head()\n"
   ]
  },
  {
   "cell_type": "code",
   "execution_count": 4,
   "metadata": {},
   "outputs": [],
   "source": [
    "test = c.data.make_test_df()\n",
    "test = c.processing.transform_save_imgs(test, c.processing.resize_n, n=224)"
   ]
  },
  {
   "cell_type": "code",
   "execution_count": 5,
   "metadata": {
    "collapsed": true
   },
   "outputs": [],
   "source": [
    "model_fp = '../model/vgg_4blocks_fullytrained.hk'\n",
    "model = keras.models.load_model(model_fp)"
   ]
  },
  {
   "cell_type": "code",
   "execution_count": 8,
   "metadata": {
    "collapsed": true
   },
   "outputs": [],
   "source": [
    "features, _ = c.processing.df_to_training_tuples(test, (224,224,3), grayscale=False)"
   ]
  },
  {
   "cell_type": "code",
   "execution_count": 10,
   "metadata": {},
   "outputs": [
    {
     "name": "stdout",
     "output_type": "stream",
     "text": [
      "3506/3506 [==============================] - 55s    \n"
     ]
    }
   ],
   "source": [
    "predictions = model.predict(features, verbose=1)"
   ]
  },
  {
   "cell_type": "code",
   "execution_count": 11,
   "metadata": {},
   "outputs": [
    {
     "data": {
      "text/plain": [
       "array([[ 0.1337654 ,  0.539913  ,  0.32632154],\n",
       "       [ 0.15445974,  0.59593856,  0.24960171],\n",
       "       [ 0.18797268,  0.52045196,  0.29157543],\n",
       "       ..., \n",
       "       [ 0.12056883,  0.57936543,  0.30006573],\n",
       "       [ 0.13937151,  0.64378583,  0.21684265],\n",
       "       [ 0.17283009,  0.64826602,  0.17890391]], dtype=float32)"
      ]
     },
     "execution_count": 11,
     "metadata": {},
     "output_type": "execute_result"
    }
   ],
   "source": [
    "predictions"
   ]
  },
  {
   "cell_type": "code",
   "execution_count": 12,
   "metadata": {
    "collapsed": true
   },
   "outputs": [],
   "source": [
    "test = c.processing.append_probabilities(test, predictions, ['1','2','3']); "
   ]
  },
  {
   "cell_type": "code",
   "execution_count": 13,
   "metadata": {},
   "outputs": [
    {
     "data": {
      "text/html": [
       "<div>\n",
       "<style>\n",
       "    .dataframe thead tr:only-child th {\n",
       "        text-align: right;\n",
       "    }\n",
       "\n",
       "    .dataframe thead th {\n",
       "        text-align: left;\n",
       "    }\n",
       "\n",
       "    .dataframe tbody tr th {\n",
       "        vertical-align: top;\n",
       "    }\n",
       "</style>\n",
       "<table border=\"1\" class=\"dataframe\">\n",
       "  <thead>\n",
       "    <tr style=\"text-align: right;\">\n",
       "      <th></th>\n",
       "      <th>path</th>\n",
       "      <th>num_id</th>\n",
       "      <th>processed_path</th>\n",
       "      <th>Type_1</th>\n",
       "      <th>Type_2</th>\n",
       "      <th>Type_3</th>\n",
       "    </tr>\n",
       "  </thead>\n",
       "  <tbody>\n",
       "    <tr>\n",
       "      <th>0</th>\n",
       "      <td>../data/test_stg2/12169.jpg</td>\n",
       "      <td>12169</td>\n",
       "      <td>../data/processed/resize_224/test_stg2/12169.jpg</td>\n",
       "      <td>0.133765</td>\n",
       "      <td>0.539913</td>\n",
       "      <td>0.326322</td>\n",
       "    </tr>\n",
       "    <tr>\n",
       "      <th>1</th>\n",
       "      <td>../data/test_stg2/10501.jpg</td>\n",
       "      <td>10501</td>\n",
       "      <td>../data/processed/resize_224/test_stg2/10501.jpg</td>\n",
       "      <td>0.154460</td>\n",
       "      <td>0.595939</td>\n",
       "      <td>0.249602</td>\n",
       "    </tr>\n",
       "    <tr>\n",
       "      <th>2</th>\n",
       "      <td>../data/test_stg2/12580.jpg</td>\n",
       "      <td>12580</td>\n",
       "      <td>../data/processed/resize_224/test_stg2/12580.jpg</td>\n",
       "      <td>0.187973</td>\n",
       "      <td>0.520452</td>\n",
       "      <td>0.291575</td>\n",
       "    </tr>\n",
       "    <tr>\n",
       "      <th>3</th>\n",
       "      <td>../data/test_stg2/12627.jpg</td>\n",
       "      <td>12627</td>\n",
       "      <td>../data/processed/resize_224/test_stg2/12627.jpg</td>\n",
       "      <td>0.157127</td>\n",
       "      <td>0.558215</td>\n",
       "      <td>0.284658</td>\n",
       "    </tr>\n",
       "    <tr>\n",
       "      <th>4</th>\n",
       "      <td>../data/test_stg2/10931.jpg</td>\n",
       "      <td>10931</td>\n",
       "      <td>../data/processed/resize_224/test_stg2/10931.jpg</td>\n",
       "      <td>0.144653</td>\n",
       "      <td>0.587621</td>\n",
       "      <td>0.267726</td>\n",
       "    </tr>\n",
       "  </tbody>\n",
       "</table>\n",
       "</div>"
      ],
      "text/plain": [
       "                          path num_id  \\\n",
       "0  ../data/test_stg2/12169.jpg  12169   \n",
       "1  ../data/test_stg2/10501.jpg  10501   \n",
       "2  ../data/test_stg2/12580.jpg  12580   \n",
       "3  ../data/test_stg2/12627.jpg  12627   \n",
       "4  ../data/test_stg2/10931.jpg  10931   \n",
       "\n",
       "                                     processed_path    Type_1    Type_2  \\\n",
       "0  ../data/processed/resize_224/test_stg2/12169.jpg  0.133765  0.539913   \n",
       "1  ../data/processed/resize_224/test_stg2/10501.jpg  0.154460  0.595939   \n",
       "2  ../data/processed/resize_224/test_stg2/12580.jpg  0.187973  0.520452   \n",
       "3  ../data/processed/resize_224/test_stg2/12627.jpg  0.157127  0.558215   \n",
       "4  ../data/processed/resize_224/test_stg2/10931.jpg  0.144653  0.587621   \n",
       "\n",
       "     Type_3  \n",
       "0  0.326322  \n",
       "1  0.249602  \n",
       "2  0.291575  \n",
       "3  0.284658  \n",
       "4  0.267726  "
      ]
     },
     "execution_count": 13,
     "metadata": {},
     "output_type": "execute_result"
    }
   ],
   "source": [
    "test.head()"
   ]
  },
  {
   "cell_type": "code",
   "execution_count": 15,
   "metadata": {},
   "outputs": [
    {
     "name": "stdout",
     "output_type": "stream",
     "text": [
      "dev_submission.csv  \u001b[0m\u001b[01;34mprocessed\u001b[0m/                 \u001b[01;34mtest\u001b[0m/       \u001b[01;34mtrain\u001b[0m/\r\n",
      "\u001b[01;34mmodel\u001b[0m/              solution_stg1_release.csv  \u001b[01;34mtest_stg2\u001b[0m/\r\n"
     ]
    }
   ],
   "source": [
    "ls ../data"
   ]
  },
  {
   "cell_type": "code",
   "execution_count": 16,
   "metadata": {
    "collapsed": true
   },
   "outputs": [],
   "source": [
    "c.submission.write_submission_file('output_vgg_4blocks_fullytrained.csv', test, '../data/solution_stg1_release.csv')"
   ]
  },
  {
   "cell_type": "code",
   "execution_count": null,
   "metadata": {
    "collapsed": true
   },
   "outputs": [],
   "source": []
  }
 ],
 "metadata": {
  "kernelspec": {
   "display_name": "Python 2",
   "language": "python",
   "name": "python2"
  },
  "language_info": {
   "codemirror_mode": {
    "name": "ipython",
    "version": 2
   },
   "file_extension": ".py",
   "mimetype": "text/x-python",
   "name": "python",
   "nbconvert_exporter": "python",
   "pygments_lexer": "ipython2",
   "version": "2.7.6"
  }
 },
 "nbformat": 4,
 "nbformat_minor": 2
}
