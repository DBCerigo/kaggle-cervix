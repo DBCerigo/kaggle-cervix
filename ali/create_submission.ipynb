{
 "cells": [
  {
   "cell_type": "code",
   "execution_count": 1,
   "metadata": {},
   "outputs": [],
   "source": [
    "import os\n",
    "import sys\n",
    "base_module_path = os.path.abspath(os.path.join('..'))\n",
    "if base_module_path not in sys.path:\n",
    "    sys.path.append(base_module_path)\n",
    "import cervix as c"
   ]
  },
  {
   "cell_type": "code",
   "execution_count": 2,
   "metadata": {
    "collapsed": true
   },
   "outputs": [],
   "source": [
    "import pandas as pd\n",
    "import numpy as np "
   ]
  },
  {
   "cell_type": "code",
   "execution_count": 4,
   "metadata": {},
   "outputs": [],
   "source": [
    "train = c.data.make_base_df()\n",
    "train = c.processing.transform_save_imgs(train, c.processing.resize_100\n",
    "train = c.processing.random_forest_transform(train, 'resize_100_path', grayscale=False)"
   ]
  },
  {
   "cell_type": "code",
   "execution_count": null,
   "metadata": {
    "collapsed": true
   },
   "outputs": [],
   "source": [
    "test = c.data.make_test_df()\n",
    "test = c.processing.transform_save_imgs(test, c.processing.resize_100)\n",
    "test = c.processing.random_forest_transform(test, 'resize_100_path', grayscale=False)"
   ]
  },
  {
   "cell_type": "code",
   "execution_count": 6,
   "metadata": {},
   "outputs": [
    {
     "data": {
      "text/plain": [
       "RandomForestClassifier(bootstrap=True, class_weight=None, criterion='gini',\n",
       "            max_depth=None, max_features='auto', max_leaf_nodes=None,\n",
       "            min_impurity_split=1e-07, min_samples_leaf=1,\n",
       "            min_samples_split=2, min_weight_fraction_leaf=0.0,\n",
       "            n_estimators=50, n_jobs=2, oob_score=False, random_state=None,\n",
       "            verbose=0, warm_start=False)"
      ]
     },
     "execution_count": 6,
     "metadata": {},
     "output_type": "execute_result"
    }
   ],
   "source": [
    "from sklearn.ensemble import RandomForestClassifier as RFC\n",
    "forest = RFC(n_jobs=2,n_estimators=50)\n",
    "\n",
    "np.squeeze(train['vec'].as_matrix())\n",
    "\n",
    "#Bit of a nasty hack to get the vectors into the right form - a (888,10000) numpy array\n",
    "train_vecs = np.squeeze(np.array(train['vec'].tolist()))\n",
    "forest.fit(train_vecs, train['Type'].as_matrix())"
   ]
  },
  {
   "cell_type": "code",
   "execution_count": 12,
   "metadata": {},
   "outputs": [],
   "source": [
    "test_vecs = np.squeeze(np.array(test['vec'].tolist()))\n",
    "\n",
    "preds_probs = forest.predict_proba(test_vecs)"
   ]
  },
  {
   "cell_type": "code",
   "execution_count": 9,
   "metadata": {},
   "outputs": [],
   "source": [
    "test = c.processing.append_probabilities(test, preds_probs, forest.classes_)"
   ]
  },
  {
   "cell_type": "code",
   "execution_count": 10,
   "metadata": {},
   "outputs": [
    {
     "data": {
      "text/html": [
       "<div>\n",
       "<style>\n",
       "    .dataframe thead tr:only-child th {\n",
       "        text-align: right;\n",
       "    }\n",
       "\n",
       "    .dataframe thead th {\n",
       "        text-align: left;\n",
       "    }\n",
       "\n",
       "    .dataframe tbody tr th {\n",
       "        vertical-align: top;\n",
       "    }\n",
       "</style>\n",
       "<table border=\"1\" class=\"dataframe\">\n",
       "  <thead>\n",
       "    <tr style=\"text-align: right;\">\n",
       "      <th></th>\n",
       "      <th>path</th>\n",
       "      <th>type</th>\n",
       "      <th>filetype</th>\n",
       "      <th>num_id</th>\n",
       "      <th>grayscale_resize_path</th>\n",
       "      <th>vec</th>\n",
       "      <th>Type_1</th>\n",
       "      <th>Type_2</th>\n",
       "      <th>Type_3</th>\n",
       "    </tr>\n",
       "  </thead>\n",
       "  <tbody>\n",
       "    <tr>\n",
       "      <th>1067</th>\n",
       "      <td>../data/train/Type_3/1107.jpg</td>\n",
       "      <td>3</td>\n",
       "      <td>jpg</td>\n",
       "      <td>1107</td>\n",
       "      <td>../data/processed/grayscale_resize/train/1107.jpg</td>\n",
       "      <td>[[0.0158690181357, 0.0158690181357, 0.01586901...</td>\n",
       "      <td>0.08</td>\n",
       "      <td>0.66</td>\n",
       "      <td>0.26</td>\n",
       "    </tr>\n",
       "    <tr>\n",
       "      <th>1305</th>\n",
       "      <td>../data/train/Type_3/49.jpg</td>\n",
       "      <td>3</td>\n",
       "      <td>jpg</td>\n",
       "      <td>49</td>\n",
       "      <td>../data/processed/grayscale_resize/train/49.jpg</td>\n",
       "      <td>[[0.0, 0.0, 0.0, 0.0, 0.0, 0.0, 0.0, 0.0, 0.0,...</td>\n",
       "      <td>0.30</td>\n",
       "      <td>0.32</td>\n",
       "      <td>0.38</td>\n",
       "    </tr>\n",
       "    <tr>\n",
       "      <th>328</th>\n",
       "      <td>../data/train/Type_2/1138.jpg</td>\n",
       "      <td>2</td>\n",
       "      <td>jpg</td>\n",
       "      <td>1138</td>\n",
       "      <td>../data/processed/grayscale_resize/train/1138.jpg</td>\n",
       "      <td>[[0.0, 0.0, 0.0, 0.0, 0.0131317753844, 0.01313...</td>\n",
       "      <td>0.20</td>\n",
       "      <td>0.52</td>\n",
       "      <td>0.28</td>\n",
       "    </tr>\n",
       "    <tr>\n",
       "      <th>704</th>\n",
       "      <td>../data/train/Type_2/428.jpg</td>\n",
       "      <td>2</td>\n",
       "      <td>jpg</td>\n",
       "      <td>428</td>\n",
       "      <td>../data/processed/grayscale_resize/train/428.jpg</td>\n",
       "      <td>[[0.0, 0.0, 0.0, 0.0, 0.0, 0.0, 0.0, 0.0, 0.0,...</td>\n",
       "      <td>0.12</td>\n",
       "      <td>0.42</td>\n",
       "      <td>0.46</td>\n",
       "    </tr>\n",
       "    <tr>\n",
       "      <th>191</th>\n",
       "      <td>../data/train/Type_1/7.jpg</td>\n",
       "      <td>1</td>\n",
       "      <td>jpg</td>\n",
       "      <td>7</td>\n",
       "      <td>../data/processed/grayscale_resize/train/7.jpg</td>\n",
       "      <td>[[0.0, 0.0, 0.0, 0.0, 0.0, 0.0, 0.0, 0.0, 0.0,...</td>\n",
       "      <td>0.34</td>\n",
       "      <td>0.30</td>\n",
       "      <td>0.36</td>\n",
       "    </tr>\n",
       "  </tbody>\n",
       "</table>\n",
       "</div>"
      ],
      "text/plain": [
       "                               path type filetype num_id  \\\n",
       "1067  ../data/train/Type_3/1107.jpg    3      jpg   1107   \n",
       "1305    ../data/train/Type_3/49.jpg    3      jpg     49   \n",
       "328   ../data/train/Type_2/1138.jpg    2      jpg   1138   \n",
       "704    ../data/train/Type_2/428.jpg    2      jpg    428   \n",
       "191      ../data/train/Type_1/7.jpg    1      jpg      7   \n",
       "\n",
       "                                  grayscale_resize_path  \\\n",
       "1067  ../data/processed/grayscale_resize/train/1107.jpg   \n",
       "1305    ../data/processed/grayscale_resize/train/49.jpg   \n",
       "328   ../data/processed/grayscale_resize/train/1138.jpg   \n",
       "704    ../data/processed/grayscale_resize/train/428.jpg   \n",
       "191      ../data/processed/grayscale_resize/train/7.jpg   \n",
       "\n",
       "                                                    vec  Type_1  Type_2  \\\n",
       "1067  [[0.0158690181357, 0.0158690181357, 0.01586901...    0.08    0.66   \n",
       "1305  [[0.0, 0.0, 0.0, 0.0, 0.0, 0.0, 0.0, 0.0, 0.0,...    0.30    0.32   \n",
       "328   [[0.0, 0.0, 0.0, 0.0, 0.0131317753844, 0.01313...    0.20    0.52   \n",
       "704   [[0.0, 0.0, 0.0, 0.0, 0.0, 0.0, 0.0, 0.0, 0.0,...    0.12    0.42   \n",
       "191   [[0.0, 0.0, 0.0, 0.0, 0.0, 0.0, 0.0, 0.0, 0.0,...    0.34    0.30   \n",
       "\n",
       "      Type_3  \n",
       "1067    0.26  \n",
       "1305    0.38  \n",
       "328     0.28  \n",
       "704     0.46  \n",
       "191     0.36  "
      ]
     },
     "execution_count": 10,
     "metadata": {},
     "output_type": "execute_result"
    }
   ],
   "source": [
    "test.head()"
   ]
  },
  {
   "cell_type": "code",
   "execution_count": 9,
   "metadata": {},
   "outputs": [],
   "source": [
    "c.submission.write_submission_file('output2.csv', test)"
   ]
  }
 ],
 "metadata": {
  "kernelspec": {
   "display_name": "venv",
   "language": "python",
   "name": "venv"
  },
  "language_info": {
   "codemirror_mode": {
    "name": "ipython",
    "version": 2
   },
   "file_extension": ".py",
   "mimetype": "text/x-python",
   "name": "python",
   "nbconvert_exporter": "python",
   "pygments_lexer": "ipython2",
   "version": "2.7.6"
  }
 },
 "nbformat": 4,
 "nbformat_minor": 2
}
