{
 "cells": [
  {
   "cell_type": "code",
   "execution_count": 1,
   "metadata": {},
   "outputs": [
    {
     "name": "stderr",
     "output_type": "stream",
     "text": [
      "Using TensorFlow backend.\n"
     ]
    }
   ],
   "source": [
    "import os\n",
    "import sys\n",
    "base_module_path = os.path.abspath(os.path.join('..'))\n",
    "if base_module_path not in sys.path:\n",
    "    sys.path.append(base_module_path)\n",
    "import cervix as c"
   ]
  },
  {
   "cell_type": "code",
   "execution_count": 2,
   "metadata": {
    "collapsed": true
   },
   "outputs": [],
   "source": [
    "import pandas as pd\n",
    "import numpy as np \n",
    "import keras"
   ]
  },
  {
   "cell_type": "code",
   "execution_count": 3,
   "metadata": {},
   "outputs": [
    {
     "data": {
      "text/html": [
       "<div>\n",
       "<style>\n",
       "    .dataframe thead tr:only-child th {\n",
       "        text-align: right;\n",
       "    }\n",
       "\n",
       "    .dataframe thead th {\n",
       "        text-align: left;\n",
       "    }\n",
       "\n",
       "    .dataframe tbody tr th {\n",
       "        vertical-align: top;\n",
       "    }\n",
       "</style>\n",
       "<table border=\"1\" class=\"dataframe\">\n",
       "  <thead>\n",
       "    <tr style=\"text-align: right;\">\n",
       "      <th></th>\n",
       "      <th>path</th>\n",
       "      <th>Type</th>\n",
       "      <th>filetype</th>\n",
       "      <th>num_id</th>\n",
       "      <th>processed_path</th>\n",
       "    </tr>\n",
       "  </thead>\n",
       "  <tbody>\n",
       "    <tr>\n",
       "      <th>0</th>\n",
       "      <td>../data/train/Type_1/0.jpg</td>\n",
       "      <td>1</td>\n",
       "      <td>jpg</td>\n",
       "      <td>0</td>\n",
       "      <td>../data/processed/resize_299/train/0.jpg</td>\n",
       "    </tr>\n",
       "    <tr>\n",
       "      <th>1</th>\n",
       "      <td>../data/train/Type_1/10.jpg</td>\n",
       "      <td>1</td>\n",
       "      <td>jpg</td>\n",
       "      <td>10</td>\n",
       "      <td>../data/processed/resize_299/train/10.jpg</td>\n",
       "    </tr>\n",
       "    <tr>\n",
       "      <th>2</th>\n",
       "      <td>../data/train/Type_1/1013.jpg</td>\n",
       "      <td>1</td>\n",
       "      <td>jpg</td>\n",
       "      <td>1013</td>\n",
       "      <td>../data/processed/resize_299/train/1013.jpg</td>\n",
       "    </tr>\n",
       "    <tr>\n",
       "      <th>3</th>\n",
       "      <td>../data/train/Type_1/1014.jpg</td>\n",
       "      <td>1</td>\n",
       "      <td>jpg</td>\n",
       "      <td>1014</td>\n",
       "      <td>../data/processed/resize_299/train/1014.jpg</td>\n",
       "    </tr>\n",
       "    <tr>\n",
       "      <th>4</th>\n",
       "      <td>../data/train/Type_1/1019.jpg</td>\n",
       "      <td>1</td>\n",
       "      <td>jpg</td>\n",
       "      <td>1019</td>\n",
       "      <td>../data/processed/resize_299/train/1019.jpg</td>\n",
       "    </tr>\n",
       "  </tbody>\n",
       "</table>\n",
       "</div>"
      ],
      "text/plain": [
       "                            path Type filetype num_id  \\\n",
       "0     ../data/train/Type_1/0.jpg    1      jpg      0   \n",
       "1    ../data/train/Type_1/10.jpg    1      jpg     10   \n",
       "2  ../data/train/Type_1/1013.jpg    1      jpg   1013   \n",
       "3  ../data/train/Type_1/1014.jpg    1      jpg   1014   \n",
       "4  ../data/train/Type_1/1019.jpg    1      jpg   1019   \n",
       "\n",
       "                                processed_path  \n",
       "0     ../data/processed/resize_299/train/0.jpg  \n",
       "1    ../data/processed/resize_299/train/10.jpg  \n",
       "2  ../data/processed/resize_299/train/1013.jpg  \n",
       "3  ../data/processed/resize_299/train/1014.jpg  \n",
       "4  ../data/processed/resize_299/train/1019.jpg  "
      ]
     },
     "execution_count": 3,
     "metadata": {},
     "output_type": "execute_result"
    }
   ],
   "source": [
    "train = c.data.make_base_df()\n",
    "train = c.processing.transform_save_imgs(train, c.processing.resize_n, n=299); train.head()\n"
   ]
  },
  {
   "cell_type": "code",
   "execution_count": 4,
   "metadata": {},
   "outputs": [
    {
     "name": "stdout",
     "output_type": "stream",
     "text": [
      "0 1 10 100 101 102 103 104 105 106 107 108 109 11 110 111 112 113 114 115 116 117 118 119 12 120 121 122 123 124 125 126 127 128 129 13 130 131 132 133 134 135 136 137 138 139 14 140 141 142 143 144 145 146 147 148 149 15 150 151 152 153 154 155 156 157 158 159 16 160 161 162 163 164 165 166 167 168 169 17 170 171 172 173 174 175 176 177 178 179 18 180 181 182 183 184 185 186 187 188 189 19 190 191 192 193 194 195 196 197 198 199 2 20 200 201 202 203 204 205 206 207 208 209 21 210 211 212 213 214 215 216 217 218 219 22 220 221 222 223 224 225 226 227 228 229 23 230 231 232 233 234 235 236 237 238 239 24 240 241 242 243 244 245 246 247 248 249 25 250 251 252 253 254 255 256 257 258 259 26 260 261 262 263 264 265 266 267 268 269 27 270 271 272 273 274 275 276 277 278 279 28 280 281 282 283 284 285 286 287 288 289 29 290 291 292 293 294 295 296 297 298 299 3 30 300 301 302 303 304 305 306 307 308 309 31 310 311 312 313 314 315 316 317 318 319 32 320 321 322 323 324 325 326 327 328 329 33 330 331 332 333 334 335 336 337 338 339 34 340 341 342 343 344 345 346 347 348 349 35 350 351 352 353 354 355 356 357 358 359 36 360 361 362 363 364 365 366 367 368 369 37 370 371 372 373 374 375 376 377 378 379 38 380 381 382 383 384 385 386 387 388 389 39 390 391 392 393 394 395 396 397 398 399 4 40 400 401 402 403 404 405 406 407 408 409 41 410 411 412 413 414 415 416 417 418 419 42 420 421 422 423 424 425 426 427 428 429 43 430 431 432 433 434 435 436 437 438 439 44 440 441 442 443 444 445 446 447 448 449 45 450 451 452 453 454 455 456 457 458 459 46 460 461 462 463 464 465 466 467 468 469 47 470 471 472 473 474 475 476 477 478 479 48 480 481 482 483 484 485 486 487 488 489 49 490 491 492 493 494 495 496 497 498 499 5 50 500 501 502 503 504 505 506 507 508 509 51 510 511 52 53 54 55 56 57 58 59 6 60 61 62 63 64 65 66 67 68 69 7 70 71 72 73 74 75 76 77 78 79 8 80 81 82 83 84 85 86 87 88 89 9 90 91 92 93 94 95 96 97 98 99 "
     ]
    }
   ],
   "source": [
    "test = c.data.make_test_df()\n",
    "test = c.processing.transform_save_imgs(test, c.processing.resize_n, n=299)"
   ]
  },
  {
   "cell_type": "code",
   "execution_count": 6,
   "metadata": {},
   "outputs": [],
   "source": [
    "model_fp = '../data/model/v3_172_SGD_v1.h5'\n",
    "model = keras.models.load_model(model_fp)"
   ]
  },
  {
   "cell_type": "code",
   "execution_count": 10,
   "metadata": {
    "collapsed": true
   },
   "outputs": [],
   "source": [
    "import cv2\n",
    "def df_to_keras_generator(df, batch_size, grayscale=None):\n",
    "    assert isinstance(grayscale, (bool)), 'grayscale must be set to a bool'\n",
    "    imread_opt = 0 if grayscale else 1 # 1 is 3chan rbg, 0 is grayscale\n",
    "\n",
    "    batch_features = np.zeros((batch_size, 299, 299, 3))\n",
    "\n",
    "    batch_counter = 0\n",
    "    while 1:\n",
    "        for index, row in df.iterrows():\n",
    "            batch_features[batch_counter] = cv2.imread(row['processed_path'],imread_opt)\n",
    "            batch_counter += 1\n",
    "            if batch_counter == batch_size:\n",
    "                batch_counter = 0\n",
    "                yield batch_features\n"
   ]
  },
  {
   "cell_type": "code",
   "execution_count": 11,
   "metadata": {},
   "outputs": [],
   "source": [
    "batch_size_t = 1\n",
    "predictions = model.predict_generator(df_to_keras_generator(test, batch_size_t, grayscale=False)\n",
    "                    ,len(test))"
   ]
  },
  {
   "cell_type": "code",
   "execution_count": 12,
   "metadata": {},
   "outputs": [
    {
     "data": {
      "text/plain": [
       "array([[ 0.17907885,  0.50894713,  0.31197408],\n",
       "       [ 0.17123672,  0.46972373,  0.35903952],\n",
       "       [ 0.17067277,  0.45749   ,  0.37183732],\n",
       "       ..., \n",
       "       [ 0.18636882,  0.47871351,  0.3349176 ],\n",
       "       [ 0.07585896,  0.84225744,  0.08188362],\n",
       "       [ 0.27098393,  0.44333118,  0.28568494]], dtype=float32)"
      ]
     },
     "execution_count": 12,
     "metadata": {},
     "output_type": "execute_result"
    }
   ],
   "source": [
    "predictions"
   ]
  },
  {
   "cell_type": "code",
   "execution_count": 13,
   "metadata": {
    "collapsed": true
   },
   "outputs": [],
   "source": [
    "test = c.processing.append_probabilities(test, predictions, ['1','2','3']); "
   ]
  },
  {
   "cell_type": "code",
   "execution_count": 14,
   "metadata": {},
   "outputs": [
    {
     "data": {
      "text/html": [
       "<div>\n",
       "<style>\n",
       "    .dataframe thead tr:only-child th {\n",
       "        text-align: right;\n",
       "    }\n",
       "\n",
       "    .dataframe thead th {\n",
       "        text-align: left;\n",
       "    }\n",
       "\n",
       "    .dataframe tbody tr th {\n",
       "        vertical-align: top;\n",
       "    }\n",
       "</style>\n",
       "<table border=\"1\" class=\"dataframe\">\n",
       "  <thead>\n",
       "    <tr style=\"text-align: right;\">\n",
       "      <th></th>\n",
       "      <th>path</th>\n",
       "      <th>num_id</th>\n",
       "      <th>processed_path</th>\n",
       "      <th>Type_1</th>\n",
       "      <th>Type_2</th>\n",
       "      <th>Type_3</th>\n",
       "    </tr>\n",
       "  </thead>\n",
       "  <tbody>\n",
       "    <tr>\n",
       "      <th>0</th>\n",
       "      <td>../data/test/0.jpg</td>\n",
       "      <td>0</td>\n",
       "      <td>../data/processed/resize_299/test/0.jpg</td>\n",
       "      <td>0.179079</td>\n",
       "      <td>0.508947</td>\n",
       "      <td>0.311974</td>\n",
       "    </tr>\n",
       "    <tr>\n",
       "      <th>1</th>\n",
       "      <td>../data/test/1.jpg</td>\n",
       "      <td>1</td>\n",
       "      <td>../data/processed/resize_299/test/1.jpg</td>\n",
       "      <td>0.171237</td>\n",
       "      <td>0.469724</td>\n",
       "      <td>0.359040</td>\n",
       "    </tr>\n",
       "    <tr>\n",
       "      <th>2</th>\n",
       "      <td>../data/test/10.jpg</td>\n",
       "      <td>10</td>\n",
       "      <td>../data/processed/resize_299/test/10.jpg</td>\n",
       "      <td>0.170673</td>\n",
       "      <td>0.457490</td>\n",
       "      <td>0.371837</td>\n",
       "    </tr>\n",
       "    <tr>\n",
       "      <th>3</th>\n",
       "      <td>../data/test/100.jpg</td>\n",
       "      <td>100</td>\n",
       "      <td>../data/processed/resize_299/test/100.jpg</td>\n",
       "      <td>0.147985</td>\n",
       "      <td>0.540032</td>\n",
       "      <td>0.311983</td>\n",
       "    </tr>\n",
       "    <tr>\n",
       "      <th>4</th>\n",
       "      <td>../data/test/101.jpg</td>\n",
       "      <td>101</td>\n",
       "      <td>../data/processed/resize_299/test/101.jpg</td>\n",
       "      <td>0.229509</td>\n",
       "      <td>0.385721</td>\n",
       "      <td>0.384769</td>\n",
       "    </tr>\n",
       "  </tbody>\n",
       "</table>\n",
       "</div>"
      ],
      "text/plain": [
       "                   path num_id                             processed_path  \\\n",
       "0    ../data/test/0.jpg      0    ../data/processed/resize_299/test/0.jpg   \n",
       "1    ../data/test/1.jpg      1    ../data/processed/resize_299/test/1.jpg   \n",
       "2   ../data/test/10.jpg     10   ../data/processed/resize_299/test/10.jpg   \n",
       "3  ../data/test/100.jpg    100  ../data/processed/resize_299/test/100.jpg   \n",
       "4  ../data/test/101.jpg    101  ../data/processed/resize_299/test/101.jpg   \n",
       "\n",
       "     Type_1    Type_2    Type_3  \n",
       "0  0.179079  0.508947  0.311974  \n",
       "1  0.171237  0.469724  0.359040  \n",
       "2  0.170673  0.457490  0.371837  \n",
       "3  0.147985  0.540032  0.311983  \n",
       "4  0.229509  0.385721  0.384769  "
      ]
     },
     "execution_count": 14,
     "metadata": {},
     "output_type": "execute_result"
    }
   ],
   "source": [
    "test.head()"
   ]
  },
  {
   "cell_type": "code",
   "execution_count": 15,
   "metadata": {
    "collapsed": true
   },
   "outputs": [],
   "source": [
    "c.submission.write_submission_file('output_v3_172_SGD_v1.csv', test)"
   ]
  },
  {
   "cell_type": "code",
   "execution_count": null,
   "metadata": {
    "collapsed": true
   },
   "outputs": [],
   "source": []
  }
 ],
 "metadata": {
  "kernelspec": {
   "display_name": "venv",
   "language": "python",
   "name": "venv"
  },
  "language_info": {
   "codemirror_mode": {
    "name": "ipython",
    "version": 2
   },
   "file_extension": ".py",
   "mimetype": "text/x-python",
   "name": "python",
   "nbconvert_exporter": "python",
   "pygments_lexer": "ipython2",
   "version": "2.7.6"
  }
 },
 "nbformat": 4,
 "nbformat_minor": 2
}
