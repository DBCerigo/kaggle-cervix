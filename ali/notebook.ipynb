{
 "cells": [
  {
   "cell_type": "code",
   "execution_count": null,
   "metadata": {
    "collapsed": true
   },
   "outputs": [],
   "source": [
    "import os\n",
    "import sys\n",
    "base_module_path = os.path.abspath(os.path.join('..'))\n",
    "if base_module_path not in sys.path:\n",
    "    sys.path.append(base_module_path)\n",
    "import cervix"
   ]
  },
  {
   "cell_type": "code",
   "execution_count": null,
   "metadata": {},
   "outputs": [],
   "source": [
    "import pandas as pd\n",
    "import numpy as np"
   ]
  },
  {
   "cell_type": "code",
   "execution_count": null,
   "metadata": {
    "collapsed": true
   },
   "outputs": [],
   "source": [
    "import cv2\n",
    "\n",
    "def get_grayscale_img(path, rescale_dim):\n",
    "    img = cv2.imread(path)\n",
    "    rescaled = cv2.resize(img, (rescale_dim, rescale_dim), cv2.INTER_LINEAR)\n",
    "    gray = cv2.cvtColor(rescaled, cv2.COLOR_RGB2GRAY).astype('float')\n",
    "    return gray\n",
    "\n",
    "def save_img(img, num_id, desc):\n",
    "    path = desc+num_id+\".jpg\"\n",
    "    cv2.imwrite(path,img)\n",
    "    return path\n",
    "    \n",
    "def save_grayscale_row(row, desc):\n",
    "    path = row.path\n",
    "    num_id = row.num_id\n",
    "    gray = get_grayscale_img(path, 100)\n",
    "    return save_img(gray, num_id, desc)\n",
    "\n",
    "def save_grayscale(df):\n",
    "    for index, row in df.iterrows():\n",
    "        df.loc[index,'gray_path'] = save_grayscale_row(row,desc)\n",
    "    return df"
   ]
  },
  {
   "cell_type": "code",
   "execution_count": null,
   "metadata": {
    "collapsed": true
   },
   "outputs": [],
   "source": [
    "df = cervix.data.make_base_df()\n",
    "#small_df = df.sample(500,random_state=3)\n",
    "#test_df = df.sample(30,random_state=4)\n",
    "\n",
    "desc = 'gray_'\n",
    "#test_df = save_grayscale(test_df)\n",
    "#small_df = save_grayscale(small_df)\n",
    "df = save_grayscale(df)"
   ]
  },
  {
   "cell_type": "code",
   "execution_count": null,
   "metadata": {
    "collapsed": true
   },
   "outputs": [],
   "source": [
    "test_df = cervix.test.make_test_df()\n",
    "test_df = save_grayscale(df)"
   ]
  },
  {
   "cell_type": "code",
   "execution_count": null,
   "metadata": {
    "collapsed": true
   },
   "outputs": [],
   "source": [
    "def random_forest_transform(df, test=False):\n",
    "    forest_df = pd.DataFrame()\n",
    "    vecs = []\n",
    "    types = []\n",
    "    ids = []\n",
    "    for _, row in df.iterrows():\n",
    "        gray = cv2.imread(row.gray_path)\n",
    "        vec = process_image(gray)\n",
    "        if not test:\n",
    "            cervix_type = row.type\n",
    "            types.append(cervix_type[-1])\n",
    "        else:\n",
    "            ids.append(row.num_id)\n",
    "        vecs.append(vec)\n",
    "    if not test:\n",
    "        return np.squeeze(np.array(vecs)), np.array(types)\n",
    "    else:\n",
    "        return np.squeeze(np.array(vecs)), np.array(ids)\n",
    "                              \n",
    "def process_image(img):\n",
    "    \"\"\"Normalize image and turn into array of one long column\"\"\"\n",
    "    normalized = cv2.normalize(img, None, 0, 1, cv2.NORM_MINMAX)\n",
    "    vec = normalized.reshape(1, np.prod(normalized.shape))\n",
    "    return vec / np.linalg.norm(vec)\n"
   ]
  },
  {
   "cell_type": "code",
   "execution_count": null,
   "metadata": {
    "collapsed": true
   },
   "outputs": [],
   "source": [
    "from sklearn.ensemble import RandomForestClassifier as RFC\n",
    "\n",
    "vecs, types = random_forest_transform(df)\n",
    "test_vecs, ids = random_forest_transform(test_df, True)\n",
    "forest = RFC(n_jobs=2,n_estimators=50)\n",
    "\n",
    "forest.fit(vecs, types)"
   ]
  },
  {
   "cell_type": "code",
   "execution_count": null,
   "metadata": {
    "collapsed": true
   },
   "outputs": [],
   "source": [
    "preds_probs = forest.predict_proba(test_vecs)"
   ]
  },
  {
   "cell_type": "code",
   "execution_count": null,
   "metadata": {
    "collapsed": true
   },
   "outputs": [],
   "source": [
    "import csv\n",
    "\n",
    "def write_to_file(path, ids, preds):\n",
    "    with open(path, 'w') as csv_f:\n",
    "        writer = csv.writer(csv_f)\n",
    "        writer.writerow(['image_name','Type_1','Type_2','Type_3'])\n",
    "        for i,row in enumerate(preds_probs):\n",
    "            path = [ids[i]+'.jpg']\n",
    "            writer.writerow(path+list(row))"
   ]
  },
  {
   "cell_type": "code",
   "execution_count": null,
   "metadata": {
    "collapsed": true
   },
   "outputs": [],
   "source": [
    "write_to_file('output.csv', ids, preds_probs)"
   ]
  }
 ],
 "metadata": {
  "kernelspec": {
   "display_name": "venv",
   "language": "python",
   "name": "venv"
  },
  "language_info": {
   "codemirror_mode": {
    "name": "ipython",
    "version": 2
   },
   "file_extension": ".py",
   "mimetype": "text/x-python",
   "name": "python",
   "nbconvert_exporter": "python",
   "pygments_lexer": "ipython2",
   "version": "2.7.6"
  }
 },
 "nbformat": 4,
 "nbformat_minor": 2
}
